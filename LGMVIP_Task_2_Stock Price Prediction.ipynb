{
  "cells": [
    {
      "cell_type": "markdown",
      "metadata": {},
      "source": [
        "IMPORT LIBRARIES"
      ]
    },
    {
      "cell_type": "code",
      "execution_count": null,
      "metadata": {
        "id": "ZqTgf4khYrWL"
      },
      "outputs": [],
      "source": [
        "import pandas as pd\n",
        "import numpy as np\n",
        "import seaborn as sns\n",
        "import matplotlib.pyplot as plt\n",
        "%matplotlib inline"
      ]
    },
    {
      "cell_type": "code",
      "execution_count": null,
      "metadata": {
        "colab": {
          "base_uri": "https://localhost:8080/",
          "height": 676
        },
        "id": "N1a6_eFLUaS1",
        "outputId": "8bfffffa-3e2a-4390-c670-843615df9940"
      },
      "outputs": [
        {
          "data": {
            "text/html": [
              "\n",
              "\n",
              "  <div id=\"df-35e561ad-58ed-4dd1-b98e-2ba78004e040\">\n",
              "    <div class=\"colab-df-container\">\n",
              "      <div>\n",
              "<style scoped>\n",
              "    .dataframe tbody tr th:only-of-type {\n",
              "        vertical-align: middle;\n",
              "    }\n",
              "\n",
              "    .dataframe tbody tr th {\n",
              "        vertical-align: top;\n",
              "    }\n",
              "\n",
              "    .dataframe thead th {\n",
              "        text-align: right;\n",
              "    }\n",
              "</style>\n",
              "<table border=\"1\" class=\"dataframe\">\n",
              "  <thead>\n",
              "    <tr style=\"text-align: right;\">\n",
              "      <th></th>\n",
              "      <th>Date</th>\n",
              "      <th>Open</th>\n",
              "      <th>High</th>\n",
              "      <th>Low</th>\n",
              "      <th>Last</th>\n",
              "      <th>Close</th>\n",
              "      <th>Total Trade Quantity</th>\n",
              "      <th>Turnover (Lacs)</th>\n",
              "    </tr>\n",
              "  </thead>\n",
              "  <tbody>\n",
              "    <tr>\n",
              "      <th>2034</th>\n",
              "      <td>2010-07-21</td>\n",
              "      <td>122.10</td>\n",
              "      <td>123.00</td>\n",
              "      <td>121.05</td>\n",
              "      <td>121.10</td>\n",
              "      <td>121.55</td>\n",
              "      <td>658666</td>\n",
              "      <td>803.56</td>\n",
              "    </tr>\n",
              "    <tr>\n",
              "      <th>2033</th>\n",
              "      <td>2010-07-22</td>\n",
              "      <td>120.30</td>\n",
              "      <td>122.00</td>\n",
              "      <td>120.25</td>\n",
              "      <td>120.75</td>\n",
              "      <td>120.90</td>\n",
              "      <td>293312</td>\n",
              "      <td>355.17</td>\n",
              "    </tr>\n",
              "    <tr>\n",
              "      <th>2032</th>\n",
              "      <td>2010-07-23</td>\n",
              "      <td>121.80</td>\n",
              "      <td>121.95</td>\n",
              "      <td>120.25</td>\n",
              "      <td>120.35</td>\n",
              "      <td>120.65</td>\n",
              "      <td>281312</td>\n",
              "      <td>340.31</td>\n",
              "    </tr>\n",
              "    <tr>\n",
              "      <th>2031</th>\n",
              "      <td>2010-07-26</td>\n",
              "      <td>120.10</td>\n",
              "      <td>121.00</td>\n",
              "      <td>117.10</td>\n",
              "      <td>117.10</td>\n",
              "      <td>117.60</td>\n",
              "      <td>658440</td>\n",
              "      <td>780.01</td>\n",
              "    </tr>\n",
              "    <tr>\n",
              "      <th>2030</th>\n",
              "      <td>2010-07-27</td>\n",
              "      <td>117.60</td>\n",
              "      <td>119.50</td>\n",
              "      <td>112.00</td>\n",
              "      <td>118.80</td>\n",
              "      <td>118.65</td>\n",
              "      <td>586100</td>\n",
              "      <td>694.98</td>\n",
              "    </tr>\n",
              "    <tr>\n",
              "      <th>2029</th>\n",
              "      <td>2010-07-28</td>\n",
              "      <td>118.00</td>\n",
              "      <td>120.50</td>\n",
              "      <td>117.20</td>\n",
              "      <td>118.15</td>\n",
              "      <td>118.25</td>\n",
              "      <td>835593</td>\n",
              "      <td>994.01</td>\n",
              "    </tr>\n",
              "    <tr>\n",
              "      <th>2028</th>\n",
              "      <td>2010-07-29</td>\n",
              "      <td>112.50</td>\n",
              "      <td>121.70</td>\n",
              "      <td>112.50</td>\n",
              "      <td>117.50</td>\n",
              "      <td>116.60</td>\n",
              "      <td>2359134</td>\n",
              "      <td>2791.03</td>\n",
              "    </tr>\n",
              "    <tr>\n",
              "      <th>2027</th>\n",
              "      <td>2010-07-30</td>\n",
              "      <td>116.50</td>\n",
              "      <td>118.00</td>\n",
              "      <td>114.60</td>\n",
              "      <td>115.85</td>\n",
              "      <td>116.05</td>\n",
              "      <td>2656191</td>\n",
              "      <td>3112.68</td>\n",
              "    </tr>\n",
              "    <tr>\n",
              "      <th>2026</th>\n",
              "      <td>2010-08-02</td>\n",
              "      <td>117.30</td>\n",
              "      <td>118.50</td>\n",
              "      <td>116.60</td>\n",
              "      <td>118.10</td>\n",
              "      <td>117.30</td>\n",
              "      <td>663593</td>\n",
              "      <td>779.85</td>\n",
              "    </tr>\n",
              "    <tr>\n",
              "      <th>2025</th>\n",
              "      <td>2010-08-03</td>\n",
              "      <td>118.30</td>\n",
              "      <td>119.95</td>\n",
              "      <td>117.90</td>\n",
              "      <td>118.65</td>\n",
              "      <td>118.30</td>\n",
              "      <td>611234</td>\n",
              "      <td>726.78</td>\n",
              "    </tr>\n",
              "    <tr>\n",
              "      <th>2024</th>\n",
              "      <td>2010-08-04</td>\n",
              "      <td>118.50</td>\n",
              "      <td>119.00</td>\n",
              "      <td>116.10</td>\n",
              "      <td>116.65</td>\n",
              "      <td>116.50</td>\n",
              "      <td>1012396</td>\n",
              "      <td>1184.49</td>\n",
              "    </tr>\n",
              "    <tr>\n",
              "      <th>2023</th>\n",
              "      <td>2010-08-05</td>\n",
              "      <td>117.00</td>\n",
              "      <td>117.00</td>\n",
              "      <td>113.80</td>\n",
              "      <td>114.10</td>\n",
              "      <td>114.05</td>\n",
              "      <td>777490</td>\n",
              "      <td>893.61</td>\n",
              "    </tr>\n",
              "    <tr>\n",
              "      <th>2022</th>\n",
              "      <td>2010-08-06</td>\n",
              "      <td>114.10</td>\n",
              "      <td>114.90</td>\n",
              "      <td>111.75</td>\n",
              "      <td>112.20</td>\n",
              "      <td>112.10</td>\n",
              "      <td>547881</td>\n",
              "      <td>620.33</td>\n",
              "    </tr>\n",
              "    <tr>\n",
              "      <th>2021</th>\n",
              "      <td>2010-08-09</td>\n",
              "      <td>112.00</td>\n",
              "      <td>113.85</td>\n",
              "      <td>112.00</td>\n",
              "      <td>113.20</td>\n",
              "      <td>112.85</td>\n",
              "      <td>415026</td>\n",
              "      <td>468.60</td>\n",
              "    </tr>\n",
              "    <tr>\n",
              "      <th>2020</th>\n",
              "      <td>2010-08-10</td>\n",
              "      <td>112.90</td>\n",
              "      <td>114.30</td>\n",
              "      <td>111.55</td>\n",
              "      <td>112.05</td>\n",
              "      <td>112.30</td>\n",
              "      <td>327364</td>\n",
              "      <td>368.92</td>\n",
              "    </tr>\n",
              "    <tr>\n",
              "      <th>2019</th>\n",
              "      <td>2010-08-11</td>\n",
              "      <td>113.75</td>\n",
              "      <td>115.50</td>\n",
              "      <td>112.00</td>\n",
              "      <td>113.90</td>\n",
              "      <td>113.90</td>\n",
              "      <td>1307966</td>\n",
              "      <td>1499.66</td>\n",
              "    </tr>\n",
              "    <tr>\n",
              "      <th>2018</th>\n",
              "      <td>2010-08-12</td>\n",
              "      <td>113.00</td>\n",
              "      <td>114.45</td>\n",
              "      <td>112.25</td>\n",
              "      <td>112.80</td>\n",
              "      <td>112.55</td>\n",
              "      <td>434265</td>\n",
              "      <td>492.18</td>\n",
              "    </tr>\n",
              "    <tr>\n",
              "      <th>2017</th>\n",
              "      <td>2010-08-13</td>\n",
              "      <td>113.40</td>\n",
              "      <td>116.00</td>\n",
              "      <td>112.60</td>\n",
              "      <td>114.10</td>\n",
              "      <td>114.15</td>\n",
              "      <td>755675</td>\n",
              "      <td>868.71</td>\n",
              "    </tr>\n",
              "    <tr>\n",
              "      <th>2016</th>\n",
              "      <td>2010-08-16</td>\n",
              "      <td>115.95</td>\n",
              "      <td>115.95</td>\n",
              "      <td>110.75</td>\n",
              "      <td>112.00</td>\n",
              "      <td>111.25</td>\n",
              "      <td>818831</td>\n",
              "      <td>919.52</td>\n",
              "    </tr>\n",
              "    <tr>\n",
              "      <th>2015</th>\n",
              "      <td>2010-08-17</td>\n",
              "      <td>111.90</td>\n",
              "      <td>112.40</td>\n",
              "      <td>109.70</td>\n",
              "      <td>110.20</td>\n",
              "      <td>110.10</td>\n",
              "      <td>1079479</td>\n",
              "      <td>1196.57</td>\n",
              "    </tr>\n",
              "  </tbody>\n",
              "</table>\n",
              "</div>\n",
              "      <button class=\"colab-df-convert\" onclick=\"convertToInteractive('df-35e561ad-58ed-4dd1-b98e-2ba78004e040')\"\n",
              "              title=\"Convert this dataframe to an interactive table.\"\n",
              "              style=\"display:none;\">\n",
              "\n",
              "  <svg xmlns=\"http://www.w3.org/2000/svg\" height=\"24px\"viewBox=\"0 0 24 24\"\n",
              "       width=\"24px\">\n",
              "    <path d=\"M0 0h24v24H0V0z\" fill=\"none\"/>\n",
              "    <path d=\"M18.56 5.44l.94 2.06.94-2.06 2.06-.94-2.06-.94-.94-2.06-.94 2.06-2.06.94zm-11 1L8.5 8.5l.94-2.06 2.06-.94-2.06-.94L8.5 2.5l-.94 2.06-2.06.94zm10 10l.94 2.06.94-2.06 2.06-.94-2.06-.94-.94-2.06-.94 2.06-2.06.94z\"/><path d=\"M17.41 7.96l-1.37-1.37c-.4-.4-.92-.59-1.43-.59-.52 0-1.04.2-1.43.59L10.3 9.45l-7.72 7.72c-.78.78-.78 2.05 0 2.83L4 21.41c.39.39.9.59 1.41.59.51 0 1.02-.2 1.41-.59l7.78-7.78 2.81-2.81c.8-.78.8-2.07 0-2.86zM5.41 20L4 18.59l7.72-7.72 1.47 1.35L5.41 20z\"/>\n",
              "  </svg>\n",
              "      </button>\n",
              "\n",
              "\n",
              "\n",
              "    <div id=\"df-8490e29a-becb-4833-bab1-1887cea4306f\">\n",
              "      <button class=\"colab-df-quickchart\" onclick=\"quickchart('df-8490e29a-becb-4833-bab1-1887cea4306f')\"\n",
              "              title=\"Suggest charts.\"\n",
              "              style=\"display:none;\">\n",
              "\n",
              "<svg xmlns=\"http://www.w3.org/2000/svg\" height=\"24px\"viewBox=\"0 0 24 24\"\n",
              "     width=\"24px\">\n",
              "    <g>\n",
              "        <path d=\"M19 3H5c-1.1 0-2 .9-2 2v14c0 1.1.9 2 2 2h14c1.1 0 2-.9 2-2V5c0-1.1-.9-2-2-2zM9 17H7v-7h2v7zm4 0h-2V7h2v10zm4 0h-2v-4h2v4z\"/>\n",
              "    </g>\n",
              "</svg>\n",
              "      </button>\n",
              "    </div>\n",
              "\n",
              "<style>\n",
              "  .colab-df-quickchart {\n",
              "    background-color: #E8F0FE;\n",
              "    border: none;\n",
              "    border-radius: 50%;\n",
              "    cursor: pointer;\n",
              "    display: none;\n",
              "    fill: #1967D2;\n",
              "    height: 32px;\n",
              "    padding: 0 0 0 0;\n",
              "    width: 32px;\n",
              "  }\n",
              "\n",
              "  .colab-df-quickchart:hover {\n",
              "    background-color: #E2EBFA;\n",
              "    box-shadow: 0px 1px 2px rgba(60, 64, 67, 0.3), 0px 1px 3px 1px rgba(60, 64, 67, 0.15);\n",
              "    fill: #174EA6;\n",
              "  }\n",
              "\n",
              "  [theme=dark] .colab-df-quickchart {\n",
              "    background-color: #3B4455;\n",
              "    fill: #D2E3FC;\n",
              "  }\n",
              "\n",
              "  [theme=dark] .colab-df-quickchart:hover {\n",
              "    background-color: #434B5C;\n",
              "    box-shadow: 0px 1px 3px 1px rgba(0, 0, 0, 0.15);\n",
              "    filter: drop-shadow(0px 1px 2px rgba(0, 0, 0, 0.3));\n",
              "    fill: #FFFFFF;\n",
              "  }\n",
              "</style>\n",
              "\n",
              "    <script>\n",
              "      async function quickchart(key) {\n",
              "        const containerElement = document.querySelector('#' + key);\n",
              "        const charts = await google.colab.kernel.invokeFunction(\n",
              "            'suggestCharts', [key], {});\n",
              "      }\n",
              "    </script>\n",
              "\n",
              "      <script>\n",
              "\n",
              "function displayQuickchartButton(domScope) {\n",
              "  let quickchartButtonEl =\n",
              "    domScope.querySelector('#df-8490e29a-becb-4833-bab1-1887cea4306f button.colab-df-quickchart');\n",
              "  quickchartButtonEl.style.display =\n",
              "    google.colab.kernel.accessAllowed ? 'block' : 'none';\n",
              "}\n",
              "\n",
              "        displayQuickchartButton(document);\n",
              "      </script>\n",
              "      <style>\n",
              "    .colab-df-container {\n",
              "      display:flex;\n",
              "      flex-wrap:wrap;\n",
              "      gap: 12px;\n",
              "    }\n",
              "\n",
              "    .colab-df-convert {\n",
              "      background-color: #E8F0FE;\n",
              "      border: none;\n",
              "      border-radius: 50%;\n",
              "      cursor: pointer;\n",
              "      display: none;\n",
              "      fill: #1967D2;\n",
              "      height: 32px;\n",
              "      padding: 0 0 0 0;\n",
              "      width: 32px;\n",
              "    }\n",
              "\n",
              "    .colab-df-convert:hover {\n",
              "      background-color: #E2EBFA;\n",
              "      box-shadow: 0px 1px 2px rgba(60, 64, 67, 0.3), 0px 1px 3px 1px rgba(60, 64, 67, 0.15);\n",
              "      fill: #174EA6;\n",
              "    }\n",
              "\n",
              "    [theme=dark] .colab-df-convert {\n",
              "      background-color: #3B4455;\n",
              "      fill: #D2E3FC;\n",
              "    }\n",
              "\n",
              "    [theme=dark] .colab-df-convert:hover {\n",
              "      background-color: #434B5C;\n",
              "      box-shadow: 0px 1px 3px 1px rgba(0, 0, 0, 0.15);\n",
              "      filter: drop-shadow(0px 1px 2px rgba(0, 0, 0, 0.3));\n",
              "      fill: #FFFFFF;\n",
              "    }\n",
              "  </style>\n",
              "\n",
              "      <script>\n",
              "        const buttonEl =\n",
              "          document.querySelector('#df-35e561ad-58ed-4dd1-b98e-2ba78004e040 button.colab-df-convert');\n",
              "        buttonEl.style.display =\n",
              "          google.colab.kernel.accessAllowed ? 'block' : 'none';\n",
              "\n",
              "        async function convertToInteractive(key) {\n",
              "          const element = document.querySelector('#df-35e561ad-58ed-4dd1-b98e-2ba78004e040');\n",
              "          const dataTable =\n",
              "            await google.colab.kernel.invokeFunction('convertToInteractive',\n",
              "                                                     [key], {});\n",
              "          if (!dataTable) return;\n",
              "\n",
              "          const docLinkHtml = 'Like what you see? Visit the ' +\n",
              "            '<a target=\"_blank\" href=https://colab.research.google.com/notebooks/data_table.ipynb>data table notebook</a>'\n",
              "            + ' to learn more about interactive tables.';\n",
              "          element.innerHTML = '';\n",
              "          dataTable['output_type'] = 'display_data';\n",
              "          await google.colab.output.renderOutput(dataTable, element);\n",
              "          const docLink = document.createElement('div');\n",
              "          docLink.innerHTML = docLinkHtml;\n",
              "          element.appendChild(docLink);\n",
              "        }\n",
              "      </script>\n",
              "    </div>\n",
              "  </div>\n"
            ],
            "text/plain": [
              "            Date    Open    High     Low    Last   Close  \\\n",
              "2034  2010-07-21  122.10  123.00  121.05  121.10  121.55   \n",
              "2033  2010-07-22  120.30  122.00  120.25  120.75  120.90   \n",
              "2032  2010-07-23  121.80  121.95  120.25  120.35  120.65   \n",
              "2031  2010-07-26  120.10  121.00  117.10  117.10  117.60   \n",
              "2030  2010-07-27  117.60  119.50  112.00  118.80  118.65   \n",
              "2029  2010-07-28  118.00  120.50  117.20  118.15  118.25   \n",
              "2028  2010-07-29  112.50  121.70  112.50  117.50  116.60   \n",
              "2027  2010-07-30  116.50  118.00  114.60  115.85  116.05   \n",
              "2026  2010-08-02  117.30  118.50  116.60  118.10  117.30   \n",
              "2025  2010-08-03  118.30  119.95  117.90  118.65  118.30   \n",
              "2024  2010-08-04  118.50  119.00  116.10  116.65  116.50   \n",
              "2023  2010-08-05  117.00  117.00  113.80  114.10  114.05   \n",
              "2022  2010-08-06  114.10  114.90  111.75  112.20  112.10   \n",
              "2021  2010-08-09  112.00  113.85  112.00  113.20  112.85   \n",
              "2020  2010-08-10  112.90  114.30  111.55  112.05  112.30   \n",
              "2019  2010-08-11  113.75  115.50  112.00  113.90  113.90   \n",
              "2018  2010-08-12  113.00  114.45  112.25  112.80  112.55   \n",
              "2017  2010-08-13  113.40  116.00  112.60  114.10  114.15   \n",
              "2016  2010-08-16  115.95  115.95  110.75  112.00  111.25   \n",
              "2015  2010-08-17  111.90  112.40  109.70  110.20  110.10   \n",
              "\n",
              "      Total Trade Quantity  Turnover (Lacs)  \n",
              "2034                658666           803.56  \n",
              "2033                293312           355.17  \n",
              "2032                281312           340.31  \n",
              "2031                658440           780.01  \n",
              "2030                586100           694.98  \n",
              "2029                835593           994.01  \n",
              "2028               2359134          2791.03  \n",
              "2027               2656191          3112.68  \n",
              "2026                663593           779.85  \n",
              "2025                611234           726.78  \n",
              "2024               1012396          1184.49  \n",
              "2023                777490           893.61  \n",
              "2022                547881           620.33  \n",
              "2021                415026           468.60  \n",
              "2020                327364           368.92  \n",
              "2019               1307966          1499.66  \n",
              "2018                434265           492.18  \n",
              "2017                755675           868.71  \n",
              "2016                818831           919.52  \n",
              "2015               1079479          1196.57  "
            ]
          },
          "execution_count": 4,
          "metadata": {},
          "output_type": "execute_result"
        }
      ],
      "source": [
        "df =pd.read_csv('https://raw.githubusercontent.com/mwitiderrick/stockprice/master/NSE-TATAGLOBAL.csv')\n",
        "df=df.iloc[::-1]\n",
        "df.head(20)\n",
        "\n"
      ]
    },
    {
      "cell_type": "markdown",
      "metadata": {},
      "source": [
        "PLOT FOR VARIOUS TIME SERIES DATA "
      ]
    },
    {
      "cell_type": "code",
      "execution_count": null,
      "metadata": {
        "colab": {
          "base_uri": "https://localhost:8080/",
          "height": 470
        },
        "id": "DfBz0rgV_gWR",
        "outputId": "f5d20c1b-ad11-44cb-c7e5-9a245524a6dc"
      },
      "outputs": [
        {
          "data": {
            "text/plain": [
              "Text(0.5, 1.0, 'Open')"
            ]
          },
          "execution_count": 5,
          "metadata": {},
          "output_type": "execute_result"
        },
        {
          "data": {
            "image/png": "[encoded data removed]",
            "text/plain": [
              "<Figure size 640x480 with 1 Axes>"
            ]
          },
          "metadata": {},
          "output_type": "display_data"
        }
      ],
      "source": [
        "import matplotlib.pyplot as plt\n",
        "# Create a line plot\n",
        "x=df['Open']\n",
        "plt.plot(x)\n",
        "\n",
        "# Add labels and title\n",
        "plt.title('Open')"
      ]
    },
    {
      "cell_type": "code",
      "execution_count": null,
      "metadata": {
        "colab": {
          "base_uri": "https://localhost:8080/",
          "height": 470
        },
        "id": "tKZmbzkuArdr",
        "outputId": "e3345da2-4bd7-4236-f47b-f20291ac8a97"
      },
      "outputs": [
        {
          "data": {
            "text/plain": [
              "Text(0.5, 1.0, 'High')"
            ]
          },
          "execution_count": 6,
          "metadata": {},
          "output_type": "execute_result"
        },
        {
          "data": {
            "image/png": "[encoded data removed]",
            "text/plain": [
              "<Figure size 640x480 with 1 Axes>"
            ]
          },
          "metadata": {},
          "output_type": "display_data"
        }
      ],
      "source": [
        "import matplotlib.pyplot as plt\n",
        "# Create a line plot\n",
        "x=df['High']\n",
        "plt.plot(x)\n",
        "\n",
        "# Add labels and title\n",
        "plt.title('High')"
      ]
    },
    {
      "cell_type": "code",
      "execution_count": null,
      "metadata": {
        "colab": {
          "base_uri": "https://localhost:8080/"
        },
        "id": "RBilZiSAUjsE",
        "outputId": "0761ccce-cc5e-4b9b-b1e8-8b43d0acd000"
      },
      "outputs": [
        {
          "data": {
            "text/plain": [
              "Index(['Date', 'Open', 'High', 'Low', 'Last', 'Close', 'Total Trade Quantity',\n",
              "       'Turnover (Lacs)'],\n",
              "      dtype='object')"
            ]
          },
          "execution_count": 7,
          "metadata": {},
          "output_type": "execute_result"
        }
      ],
      "source": [
        "df.columns"
      ]
    },
    {
      "cell_type": "code",
      "execution_count": null,
      "metadata": {
        "colab": {
          "base_uri": "https://localhost:8080/"
        },
        "id": "9I_QU5-tUkKU",
        "outputId": "a2ad5242-cee7-4f27-b6fc-3514bd24b2f5"
      },
      "outputs": [
        {
          "name": "stdout",
          "output_type": "stream",
          "text": [
            "<class 'pandas.core.frame.DataFrame'>\n",
            "RangeIndex: 2035 entries, 2034 to 0\n",
            "Data columns (total 8 columns):\n",
            " #   Column                Non-Null Count  Dtype  \n",
            "---  ------                --------------  -----  \n",
            " 0   Date                  2035 non-null   object \n",
            " 1   Open                  2035 non-null   float64\n",
            " 2   High                  2035 non-null   float64\n",
            " 3   Low                   2035 non-null   float64\n",
            " 4   Last                  2035 non-null   float64\n",
            " 5   Close                 2035 non-null   float64\n",
            " 6   Total Trade Quantity  2035 non-null   int64  \n",
            " 7   Turnover (Lacs)       2035 non-null   float64\n",
            "dtypes: float64(6), int64(1), object(1)\n",
            "memory usage: 127.3+ KB\n"
          ]
        }
      ],
      "source": [
        "df.info()"
      ]
    },
    {
      "cell_type": "code",
      "execution_count": null,
      "metadata": {
        "colab": {
          "base_uri": "https://localhost:8080/"
        },
        "id": "qrFT6eL3Unlm",
        "outputId": "78fd6a94-5a19-401b-e6b9-3695ee9c9e3c"
      },
      "outputs": [
        {
          "data": {
            "text/plain": [
              "Date                    0\n",
              "Open                    0\n",
              "High                    0\n",
              "Low                     0\n",
              "Last                    0\n",
              "Close                   0\n",
              "Total Trade Quantity    0\n",
              "Turnover (Lacs)         0\n",
              "dtype: int64"
            ]
          },
          "execution_count": 9,
          "metadata": {},
          "output_type": "execute_result"
        }
      ],
      "source": [
        "#Data Preprocessing\n",
        "df.isnull().sum()"
      ]
    },
    {
      "cell_type": "code",
      "execution_count": null,
      "metadata": {
        "colab": {
          "base_uri": "https://localhost:8080/"
        },
        "id": "8v3A-BJ_VoGZ",
        "outputId": "0b009076-5f79-4b79-99dc-228f0522542f"
      },
      "outputs": [
        {
          "data": {
            "text/plain": [
              "False    2035\n",
              "dtype: int64"
            ]
          },
          "execution_count": 10,
          "metadata": {},
          "output_type": "execute_result"
        }
      ],
      "source": [
        "duplicates= df.duplicated()\n",
        "duplicates.value_counts()\n",
        "# no duplicates are present"
      ]
    },
    {
      "cell_type": "code",
      "execution_count": null,
      "metadata": {
        "colab": {
          "base_uri": "https://localhost:8080/",
          "height": 727
        },
        "id": "MCzr-lc9VuLV",
        "outputId": "c0ce7752-92ab-487e-9c89-3902b5691501"
      },
      "outputs": [
        {
          "name": "stderr",
          "output_type": "stream",
          "text": [
            "<ipython-input-11-40557f091158>:2: FutureWarning: The default value of numeric_only in DataFrame.corr is deprecated. In a future version, it will default to False. Select only valid columns or specify the value of numeric_only to silence this warning.\n",
            "  sns.heatmap(df.corr(), annot=True)\n"
          ]
        },
        {
          "data": {
            "text/plain": [
              "<Axes: >"
            ]
          },
          "execution_count": 11,
          "metadata": {},
          "output_type": "execute_result"
        },
        {
          "data": {
            "image/png": "[encoded data removed]",
            "text/plain": [
              "<Figure size 600x600 with 2 Axes>"
            ]
          },
          "metadata": {},
          "output_type": "display_data"
        }
      ],
      "source": [
        "plt.figure(figsize=(6,6))\n",
        "sns.heatmap(df.corr(), annot=True)"
      ]
    },
    {
      "cell_type": "code",
      "execution_count": null,
      "metadata": {
        "colab": {
          "base_uri": "https://localhost:8080/",
          "height": 448
        },
        "id": "U63QAabKWPIp",
        "outputId": "eaa0e1de-837b-43a4-bc3a-be95d75b3f09"
      },
      "outputs": [
        {
          "data": {
            "text/plain": [
              "[<matplotlib.lines.Line2D at 0x7acf18bf4280>]"
            ]
          },
          "execution_count": 12,
          "metadata": {},
          "output_type": "execute_result"
        },
        {
          "data": {
            "image/png": "[encoded data removed]",
            "text/plain": [
              "<Figure size 640x480 with 1 Axes>"
            ]
          },
          "metadata": {},
          "output_type": "display_data"
        }
      ],
      "source": [
        "df1=df.reset_index()['Close']\n",
        "plt.plot(df1)"
      ]
    },
    {
      "cell_type": "code",
      "execution_count": null,
      "metadata": {
        "colab": {
          "base_uri": "https://localhost:8080/"
        },
        "id": "a0JGeHFbHCWd",
        "outputId": "37b0ee65-cc97-45ac-d4f7-fb85ffc8f3d2"
      },
      "outputs": [
        {
          "data": {
            "text/plain": [
              "0       121.55\n",
              "1       120.90\n",
              "2       120.65\n",
              "3       117.60\n",
              "4       118.65\n",
              "         ...  \n",
              "2030    233.30\n",
              "2031    236.10\n",
              "2032    234.25\n",
              "2033    233.25\n",
              "2034    233.75\n",
              "Name: Close, Length: 2035, dtype: float64"
            ]
          },
          "execution_count": 13,
          "metadata": {},
          "output_type": "execute_result"
        }
      ],
      "source": [
        "df1"
      ]
    },
    {
      "cell_type": "code",
      "execution_count": null,
      "metadata": {
        "id": "sMVqv0qvVzj3"
      },
      "outputs": [],
      "source": [
        "#actually lstm's are very to scale of the data, so apply minmax scaler\n",
        "from sklearn.preprocessing import MinMaxScaler\n",
        "scaler = MinMaxScaler(feature_range = (0,1))\n",
        "df1 = scaler.fit_transform(np.array(df1).reshape(-1,1))"
      ]
    },
    {
      "cell_type": "code",
      "execution_count": null,
      "metadata": {
        "colab": {
          "base_uri": "https://localhost:8080/"
        },
        "id": "K9CFdNcqWTAr",
        "outputId": "b8135903-9d8e-4266-dace-4ce8aa8bd1bb"
      },
      "outputs": [
        {
          "data": {
            "text/plain": [
              "array([[0.16584967],\n",
              "       [0.16319444],\n",
              "       [0.1621732 ],\n",
              "       ...,\n",
              "       [0.62622549],\n",
              "       [0.62214052],\n",
              "       [0.62418301]])"
            ]
          },
          "execution_count": 15,
          "metadata": {},
          "output_type": "execute_result"
        }
      ],
      "source": [
        "df1"
      ]
    },
    {
      "cell_type": "code",
      "execution_count": null,
      "metadata": {
        "colab": {
          "base_uri": "https://localhost:8080/",
          "height": 470
        },
        "id": "t15zU9jEHlVm",
        "outputId": "9167f464-43b4-42f8-feea-0e0b7bcf9cbf"
      },
      "outputs": [
        {
          "data": {
            "text/plain": [
              "Text(0.5, 1.0, 'Standardized close values')"
            ]
          },
          "execution_count": 16,
          "metadata": {},
          "output_type": "execute_result"
        },
        {
          "data": {
            "image/png": "[encoded data removed]",
            "text/plain": [
              "<Figure size 640x480 with 1 Axes>"
            ]
          },
          "metadata": {},
          "output_type": "display_data"
        }
      ],
      "source": [
        "plt.plot(df1)\n",
        "plt.title(\"Standardized close values\")"
      ]
    },
    {
      "cell_type": "code",
      "execution_count": null,
      "metadata": {
        "id": "hb4mgJepccY0"
      },
      "outputs": [],
      "source": [
        "#Split the data into train and test split\n",
        "training_size = int(len(df1) * 0.85)\n",
        "test_size = len(df1) - training_size\n",
        "train_data,test_data = df1[0:training_size,:], df1[training_size:len(df1),:1]"
      ]
    },
    {
      "cell_type": "code",
      "execution_count": null,
      "metadata": {
        "colab": {
          "base_uri": "https://localhost:8080/"
        },
        "id": "19MIhLx-KQvc",
        "outputId": "f8079e4e-67ef-48c6-c12a-7a14dd312c07"
      },
      "outputs": [
        {
          "data": {
            "text/plain": [
              "306"
            ]
          },
          "execution_count": 24,
          "metadata": {},
          "output_type": "execute_result"
        }
      ],
      "source": [
        "test_size"
      ]
    },
    {
      "cell_type": "markdown",
      "metadata": {},
      "source": [
        "PREPROCESS DATA"
      ]
    },
    {
      "cell_type": "code",
      "execution_count": null,
      "metadata": {
        "id": "_wu_q066z87m"
      },
      "outputs": [],
      "source": [
        "#DATA PREPROCESSING\n",
        "# convert an array of values into a dataset matrix\n",
        "def create_dataset(dataset, time_step=1):\n",
        "    dataX, dataY = [], []\n",
        "    for i in range(len(dataset)-time_step-1):\n",
        "        a = dataset[i:(i+time_step), 0]\n",
        "        dataX.append(a)\n",
        "        dataY.append(dataset[i + time_step, 0])\n",
        "    return np.array(dataX), np.array(dataY)"
      ]
    },
    {
      "cell_type": "code",
      "execution_count": null,
      "metadata": {
        "id": "B2W9dpKFz-Fz"
      },
      "outputs": [],
      "source": [
        "time_step = 150\n",
        "x_train, y_train = create_dataset(train_data, time_step)\n",
        "x_test, y_test = create_dataset(test_data, time_step)"
      ]
    },
    {
      "cell_type": "code",
      "execution_count": null,
      "metadata": {
        "colab": {
          "base_uri": "https://localhost:8080/"
        },
        "id": "axw8ola59qbm",
        "outputId": "90880a6e-f990-4a36-e07b-5cc82480331d"
      },
      "outputs": [
        {
          "name": "stdout",
          "output_type": "stream",
          "text": [
            "[[0.16584967 0.16319444 0.1621732  ... 0.08455882 0.05535131 0.0620915 ]\n",
            " [0.16319444 0.1621732  0.14971405 ... 0.05535131 0.0620915  0.06311275]\n",
            " [0.1621732  0.14971405 0.15400327 ... 0.0620915  0.06311275 0.05861928]\n",
            " ...\n",
            " [0.13950163 0.15339052 0.16339869 ... 0.27859477 0.27593954 0.28472222]\n",
            " [0.15339052 0.16339869 0.16748366 ... 0.27593954 0.28472222 0.28860294]\n",
            " [0.16339869 0.16748366 0.1752451  ... 0.28472222 0.28860294 0.28227124]]\n"
          ]
        }
      ],
      "source": [
        "print(x_train)"
      ]
    },
    {
      "cell_type": "code",
      "execution_count": null,
      "metadata": {
        "colab": {
          "base_uri": "https://localhost:8080/"
        },
        "id": "1neQBzE9LRR-",
        "outputId": "da47cadc-490a-483b-8a89-e44576cfb655"
      },
      "outputs": [
        {
          "data": {
            "text/plain": [
              "(155, 150)"
            ]
          },
          "execution_count": 28,
          "metadata": {},
          "output_type": "execute_result"
        }
      ],
      "source": [
        "x_test.shape"
      ]
    },
    {
      "cell_type": "code",
      "execution_count": null,
      "metadata": {
        "colab": {
          "base_uri": "https://localhost:8080/"
        },
        "id": "feFIPnC0LUCW",
        "outputId": "ac6edbdb-696d-467d-90b6-f898a3f2c511"
      },
      "outputs": [
        {
          "data": {
            "text/plain": [
              "(155,)"
            ]
          },
          "execution_count": 29,
          "metadata": {},
          "output_type": "execute_result"
        }
      ],
      "source": [
        "y_test.shape"
      ]
    },
    {
      "cell_type": "code",
      "execution_count": null,
      "metadata": {
        "colab": {
          "base_uri": "https://localhost:8080/",
          "height": 452
        },
        "id": "Cv9h4zZKS-mK",
        "outputId": "ff4cd537-2c00-41ab-c2a6-cbded24c61d4"
      },
      "outputs": [
        {
          "data": {
            "text/plain": [
              "[<matplotlib.lines.Line2D at 0x7acf178b7be0>]"
            ]
          },
          "execution_count": 30,
          "metadata": {},
          "output_type": "execute_result"
        },
        {
          "data": {
            "image/png": "[encoded data removed]",
            "text/plain": [
              "<Figure size 640x480 with 1 Axes>"
            ]
          },
          "metadata": {},
          "output_type": "display_data"
        }
      ],
      "source": [
        "plt.plot(y_test)"
      ]
    },
    {
      "cell_type": "code",
      "execution_count": null,
      "metadata": {
        "id": "-_HO2fgv0Pm7"
      },
      "outputs": [],
      "source": [
        "#Reshape the input to be [samples, time steps, features] which is the requirement of LSTM\n",
        "x_train = x_train.reshape(x_train.shape[0], x_train.shape[1], 1)\n",
        "x_test = x_test.reshape(x_test.shape[0], x_test.shape[1], 1)"
      ]
    },
    {
      "cell_type": "code",
      "execution_count": null,
      "metadata": {
        "id": "UYNBHzdSfLpc"
      },
      "outputs": [],
      "source": [
        "import tensorflow as tf\n",
        "from tensorflow.python.keras.models import Sequential\n",
        "from tensorflow.python.keras.layers import Dense\n",
        "from tensorflow.python.keras.layers import LSTM"
      ]
    },
    {
      "cell_type": "code",
      "execution_count": null,
      "metadata": {
        "id": "n8TnAgo4fPu2"
      },
      "outputs": [],
      "source": [
        "model = Sequential()\n",
        "model.add(LSTM(units=50, return_sequences=True,activation='relu', input_shape=(150, 1)))\n",
        "model.add(LSTM(units=50, return_sequences=False,activation='relu'))\n",
        "model.add(Dense(units=1))\n",
        "model.compile(optimizer='adam', loss='mean_squared_error')\n"
      ]
    },
    {
      "cell_type": "code",
      "execution_count": null,
      "metadata": {
        "colab": {
          "base_uri": "https://localhost:8080/"
        },
        "id": "WsS6yk-zfTp1",
        "outputId": "8eee7454-3f88-4f4c-9a94-3df868821c49"
      },
      "outputs": [
        {
          "name": "stdout",
          "output_type": "stream",
          "text": [
            "Model: \"sequential\"\n",
            "_________________________________________________________________\n",
            "Layer (type)                 Output Shape              Param #   \n",
            "=================================================================\n",
            "lstm (LSTM)                  (None, 150, 50)           10400     \n",
            "_________________________________________________________________\n",
            "lstm_1 (LSTM)                (None, 50)                20200     \n",
            "_________________________________________________________________\n",
            "dense (Dense)                (None, 1)                 51        \n",
            "=================================================================\n",
            "Total params: 30,651\n",
            "Trainable params: 30,651\n",
            "Non-trainable params: 0\n",
            "_________________________________________________________________\n"
          ]
        }
      ],
      "source": [
        "model.summary()"
      ]
    },
    {
      "cell_type": "code",
      "execution_count": null,
      "metadata": {
        "colab": {
          "base_uri": "https://localhost:8080/"
        },
        "id": "TKUZr84afXBk",
        "outputId": "2b88e7a1-67d6-416e-e64d-d87d35873f4e"
      },
      "outputs": [
        {
          "name": "stdout",
          "output_type": "stream",
          "text": [
            "Epoch 1/100\n",
            "25/25 [==============================] - 18s 480ms/step - loss: 0.0227 - val_loss: 0.0338\n",
            "Epoch 2/100\n",
            "25/25 [==============================] - 11s 453ms/step - loss: 0.0026 - val_loss: 0.0063\n",
            "Epoch 3/100\n",
            "25/25 [==============================] - 11s 452ms/step - loss: 7.3482e-04 - val_loss: 0.0118\n",
            "Epoch 4/100\n",
            "25/25 [==============================] - 11s 448ms/step - loss: 5.8465e-04 - val_loss: 0.0114\n",
            "Epoch 5/100\n",
            "25/25 [==============================] - 10s 418ms/step - loss: 5.3779e-04 - val_loss: 0.0076\n",
            "Epoch 6/100\n",
            "25/25 [==============================] - 11s 413ms/step - loss: 5.2219e-04 - val_loss: 0.0071\n",
            "Epoch 7/100\n",
            "25/25 [==============================] - 12s 490ms/step - loss: 5.1160e-04 - val_loss: 0.0050\n",
            "Epoch 8/100\n",
            "25/25 [==============================] - 11s 451ms/step - loss: 5.2655e-04 - val_loss: 0.0030\n",
            "Epoch 9/100\n",
            "25/25 [==============================] - 11s 453ms/step - loss: 4.7325e-04 - val_loss: 0.0032\n",
            "Epoch 10/100\n",
            "25/25 [==============================] - 11s 452ms/step - loss: 4.5087e-04 - val_loss: 0.0035\n",
            "Epoch 11/100\n",
            "25/25 [==============================] - 11s 454ms/step - loss: 4.3730e-04 - val_loss: 0.0026\n",
            "Epoch 12/100\n",
            "25/25 [==============================] - 10s 421ms/step - loss: 4.3263e-04 - val_loss: 0.0027\n",
            "Epoch 13/100\n",
            "25/25 [==============================] - 10s 408ms/step - loss: 4.3980e-04 - val_loss: 0.0021\n",
            "Epoch 14/100\n",
            "25/25 [==============================] - 11s 452ms/step - loss: 4.2434e-04 - val_loss: 0.0019\n",
            "Epoch 15/100\n",
            "25/25 [==============================] - 11s 447ms/step - loss: 3.9182e-04 - val_loss: 0.0020\n",
            "Epoch 16/100\n",
            "25/25 [==============================] - 11s 449ms/step - loss: 4.0433e-04 - val_loss: 0.0031\n",
            "Epoch 17/100\n",
            "25/25 [==============================] - 11s 452ms/step - loss: 4.2633e-04 - val_loss: 0.0026\n",
            "Epoch 18/100\n",
            "25/25 [==============================] - 11s 449ms/step - loss: 3.5755e-04 - val_loss: 0.0020\n",
            "Epoch 19/100\n",
            "25/25 [==============================] - 10s 393ms/step - loss: 3.3886e-04 - val_loss: 0.0020\n",
            "Epoch 20/100\n",
            "25/25 [==============================] - 11s 439ms/step - loss: 3.3773e-04 - val_loss: 0.0020\n",
            "Epoch 21/100\n",
            "25/25 [==============================] - 11s 450ms/step - loss: 3.3597e-04 - val_loss: 0.0017\n",
            "Epoch 22/100\n",
            "25/25 [==============================] - 11s 453ms/step - loss: 3.1737e-04 - val_loss: 0.0014\n",
            "Epoch 23/100\n",
            "25/25 [==============================] - 11s 452ms/step - loss: 3.0240e-04 - val_loss: 0.0015\n",
            "Epoch 24/100\n",
            "25/25 [==============================] - 11s 452ms/step - loss: 2.9984e-04 - val_loss: 0.0014\n",
            "Epoch 25/100\n",
            "25/25 [==============================] - 11s 423ms/step - loss: 3.0208e-04 - val_loss: 0.0013\n",
            "Epoch 26/100\n",
            "25/25 [==============================] - 10s 403ms/step - loss: 2.8846e-04 - val_loss: 0.0017\n",
            "Epoch 27/100\n",
            "25/25 [==============================] - 11s 449ms/step - loss: 2.8772e-04 - val_loss: 0.0013\n",
            "Epoch 28/100\n",
            "25/25 [==============================] - 11s 450ms/step - loss: 2.7851e-04 - val_loss: 0.0013\n",
            "Epoch 29/100\n",
            "25/25 [==============================] - 11s 447ms/step - loss: 2.8744e-04 - val_loss: 0.0012\n",
            "Epoch 30/100\n",
            "25/25 [==============================] - 11s 449ms/step - loss: 2.6921e-04 - val_loss: 0.0012\n",
            "Epoch 31/100\n",
            "25/25 [==============================] - 11s 439ms/step - loss: 2.5427e-04 - val_loss: 0.0014\n",
            "Epoch 32/100\n",
            "25/25 [==============================] - 10s 391ms/step - loss: 2.4966e-04 - val_loss: 0.0013\n",
            "Epoch 33/100\n",
            "25/25 [==============================] - 11s 454ms/step - loss: 2.6711e-04 - val_loss: 0.0018\n",
            "Epoch 34/100\n",
            "25/25 [==============================] - 11s 450ms/step - loss: 2.3399e-04 - val_loss: 0.0010\n",
            "Epoch 35/100\n",
            "25/25 [==============================] - 11s 448ms/step - loss: 2.2710e-04 - val_loss: 7600059.5000\n",
            "Epoch 36/100\n",
            "25/25 [==============================] - 11s 449ms/step - loss: 2.3994e-04 - val_loss: 134386.6719\n",
            "Epoch 37/100\n",
            "25/25 [==============================] - 11s 448ms/step - loss: 2.3324e-04 - val_loss: 57468044.0000\n",
            "Epoch 38/100\n",
            "25/25 [==============================] - 10s 401ms/step - loss: 2.5244e-04 - val_loss: 0.0037\n",
            "Epoch 39/100\n",
            "25/25 [==============================] - 11s 423ms/step - loss: 2.3830e-04 - val_loss: 0.0015\n",
            "Epoch 40/100\n",
            "25/25 [==============================] - 11s 448ms/step - loss: 2.0840e-04 - val_loss: 1027176071168.0000\n",
            "Epoch 41/100\n",
            "25/25 [==============================] - 11s 449ms/step - loss: 2.0910e-04 - val_loss: 6309472108544.0000\n",
            "Epoch 42/100\n",
            "25/25 [==============================] - 11s 449ms/step - loss: 1.9918e-04 - val_loss: 682620828516352.0000\n",
            "Epoch 43/100\n",
            "25/25 [==============================] - 11s 450ms/step - loss: 1.9091e-04 - val_loss: 6423964867887104.0000\n",
            "Epoch 44/100\n",
            "25/25 [==============================] - 11s 442ms/step - loss: 2.1128e-04 - val_loss: 458516380778496.0000\n",
            "Epoch 45/100\n",
            "25/25 [==============================] - 10s 400ms/step - loss: 2.0019e-04 - val_loss: 260239903424512.0000\n",
            "Epoch 46/100\n",
            "25/25 [==============================] - 11s 449ms/step - loss: 1.7917e-04 - val_loss: 7188374557294592.0000\n",
            "Epoch 47/100\n",
            "25/25 [==============================] - 11s 450ms/step - loss: 1.6926e-04 - val_loss: 792719093923840.0000\n",
            "Epoch 48/100\n",
            "25/25 [==============================] - 11s 449ms/step - loss: 1.8194e-04 - val_loss: 966082898690048.0000\n",
            "Epoch 49/100\n",
            "25/25 [==============================] - 11s 447ms/step - loss: 1.6107e-04 - val_loss: 5476281944637440.0000\n",
            "Epoch 50/100\n",
            "25/25 [==============================] - 11s 451ms/step - loss: 1.5780e-04 - val_loss: 17399651250470912.0000\n",
            "Epoch 51/100\n",
            "25/25 [==============================] - 10s 398ms/step - loss: 2.0470e-04 - val_loss: 807388.8125\n",
            "Epoch 52/100\n",
            "25/25 [==============================] - 11s 426ms/step - loss: 1.9786e-04 - val_loss: 0.8984\n",
            "Epoch 53/100\n",
            "25/25 [==============================] - 11s 448ms/step - loss: 1.5398e-04 - val_loss: 3780147.2500\n",
            "Epoch 54/100\n",
            "25/25 [==============================] - 11s 449ms/step - loss: 1.4871e-04 - val_loss: 181479840.0000\n",
            "Epoch 55/100\n",
            "25/25 [==============================] - 11s 451ms/step - loss: 1.7337e-04 - val_loss: 134902.0000\n",
            "Epoch 56/100\n",
            "25/25 [==============================] - 11s 452ms/step - loss: 1.5464e-04 - val_loss: 73748.4766\n",
            "Epoch 57/100\n",
            "25/25 [==============================] - 11s 428ms/step - loss: 1.4680e-04 - val_loss: 8052536.0000\n",
            "Epoch 58/100\n",
            "25/25 [==============================] - 10s 402ms/step - loss: 1.4807e-04 - val_loss: 21510328.0000\n",
            "Epoch 59/100\n",
            "25/25 [==============================] - 11s 452ms/step - loss: 1.5078e-04 - val_loss: 77575.1172\n",
            "Epoch 60/100\n",
            "25/25 [==============================] - 11s 452ms/step - loss: 1.4268e-04 - val_loss: 207901.5156\n",
            "Epoch 61/100\n",
            "25/25 [==============================] - 11s 450ms/step - loss: 1.3387e-04 - val_loss: 55245532.0000\n",
            "Epoch 62/100\n",
            "25/25 [==============================] - 11s 449ms/step - loss: 1.3531e-04 - val_loss: 153710928.0000\n",
            "Epoch 63/100\n",
            "25/25 [==============================] - 11s 452ms/step - loss: 1.4682e-04 - val_loss: 1.8513\n",
            "Epoch 64/100\n",
            "25/25 [==============================] - 10s 395ms/step - loss: 1.4946e-04 - val_loss: 0.0368\n",
            "Epoch 65/100\n",
            "25/25 [==============================] - 11s 435ms/step - loss: 1.3283e-04 - val_loss: 65.1549\n",
            "Epoch 66/100\n",
            "25/25 [==============================] - 11s 450ms/step - loss: 1.3702e-04 - val_loss: 14260.2246\n",
            "Epoch 67/100\n",
            "25/25 [==============================] - 11s 450ms/step - loss: 1.2887e-04 - val_loss: 661180.1250\n",
            "Epoch 68/100\n",
            "25/25 [==============================] - 11s 452ms/step - loss: 1.3489e-04 - val_loss: 1952.3450\n",
            "Epoch 69/100\n",
            "25/25 [==============================] - 11s 451ms/step - loss: 1.3425e-04 - val_loss: 39785.6758\n",
            "Epoch 70/100\n",
            "25/25 [==============================] - 11s 430ms/step - loss: 1.4818e-04 - val_loss: 0.0127\n",
            "Epoch 71/100\n",
            "25/25 [==============================] - 10s 399ms/step - loss: 1.2963e-04 - val_loss: 0.0032\n",
            "Epoch 72/100\n",
            "25/25 [==============================] - 11s 450ms/step - loss: 1.4435e-04 - val_loss: 0.0077\n",
            "Epoch 73/100\n",
            "25/25 [==============================] - 11s 452ms/step - loss: 1.3331e-04 - val_loss: 0.0029\n",
            "Epoch 74/100\n",
            "25/25 [==============================] - 11s 452ms/step - loss: 1.2799e-04 - val_loss: 0.0027\n",
            "Epoch 75/100\n",
            "25/25 [==============================] - 11s 453ms/step - loss: 1.2371e-04 - val_loss: 0.0029\n",
            "Epoch 76/100\n",
            "25/25 [==============================] - 11s 450ms/step - loss: 1.2530e-04 - val_loss: 0.0058\n",
            "Epoch 77/100\n",
            "25/25 [==============================] - 10s 402ms/step - loss: 1.3093e-04 - val_loss: 0.0032\n",
            "Epoch 78/100\n",
            "25/25 [==============================] - 11s 426ms/step - loss: 1.4839e-04 - val_loss: 0.0088\n",
            "Epoch 79/100\n",
            "25/25 [==============================] - 11s 450ms/step - loss: 1.2634e-04 - val_loss: 0.0154\n",
            "Epoch 80/100\n",
            "25/25 [==============================] - 11s 453ms/step - loss: 1.2287e-04 - val_loss: 0.0048\n",
            "Epoch 81/100\n",
            "25/25 [==============================] - 11s 453ms/step - loss: 1.2815e-04 - val_loss: 0.0095\n",
            "Epoch 82/100\n",
            "25/25 [==============================] - 11s 451ms/step - loss: 1.2432e-04 - val_loss: 0.0162\n",
            "Epoch 83/100\n",
            "25/25 [==============================] - 11s 439ms/step - loss: 1.2523e-04 - val_loss: 0.0080\n",
            "Epoch 84/100\n",
            "25/25 [==============================] - 10s 395ms/step - loss: 1.2593e-04 - val_loss: 0.0127\n",
            "Epoch 85/100\n",
            "25/25 [==============================] - 11s 452ms/step - loss: 1.2772e-04 - val_loss: 0.0121\n",
            "Epoch 86/100\n",
            "25/25 [==============================] - 11s 452ms/step - loss: 1.2097e-04 - val_loss: 0.0101\n",
            "Epoch 87/100\n",
            "25/25 [==============================] - 11s 456ms/step - loss: 1.2752e-04 - val_loss: 0.0174\n",
            "Epoch 88/100\n",
            "25/25 [==============================] - 11s 454ms/step - loss: 1.3896e-04 - val_loss: 0.0093\n",
            "Epoch 89/100\n",
            "25/25 [==============================] - 11s 456ms/step - loss: 1.2325e-04 - val_loss: 0.0155\n",
            "Epoch 90/100\n",
            "25/25 [==============================] - 11s 431ms/step - loss: 1.2942e-04 - val_loss: 0.0078\n",
            "Epoch 91/100\n",
            "25/25 [==============================] - 10s 397ms/step - loss: 1.2262e-04 - val_loss: 0.0109\n",
            "Epoch 92/100\n",
            "25/25 [==============================] - 11s 449ms/step - loss: 1.2670e-04 - val_loss: 0.0145\n",
            "Epoch 93/100\n",
            "25/25 [==============================] - 11s 448ms/step - loss: 1.1896e-04 - val_loss: 0.0169\n",
            "Epoch 94/100\n",
            "25/25 [==============================] - 11s 450ms/step - loss: 1.2040e-04 - val_loss: 0.0148\n",
            "Epoch 95/100\n",
            "25/25 [==============================] - 11s 453ms/step - loss: 1.2081e-04 - val_loss: 0.0142\n",
            "Epoch 96/100\n",
            "25/25 [==============================] - 11s 454ms/step - loss: 1.2233e-04 - val_loss: 0.0146\n",
            "Epoch 97/100\n",
            "25/25 [==============================] - 10s 404ms/step - loss: 1.3913e-04 - val_loss: 0.0072\n",
            "Epoch 98/100\n",
            "25/25 [==============================] - 11s 435ms/step - loss: 1.2327e-04 - val_loss: 0.0091\n",
            "Epoch 99/100\n",
            "25/25 [==============================] - 11s 455ms/step - loss: 1.1871e-04 - val_loss: 0.0093\n",
            "Epoch 100/100\n",
            "25/25 [==============================] - 11s 453ms/step - loss: 1.3934e-04 - val_loss: 0.0060\n"
          ]
        },
        {
          "data": {
            "text/plain": [
              "<tensorflow.python.keras.callbacks.History at 0x7acebc61a320>"
            ]
          },
          "execution_count": 35,
          "metadata": {},
          "output_type": "execute_result"
        }
      ],
      "source": [
        "model.fit(x_train, y_train, validation_data = (x_test, y_test), epochs = 100, batch_size = 64, verbose = 1)\n"
      ]
    },
    {
      "cell_type": "code",
      "execution_count": null,
      "metadata": {
        "id": "5uQ9meTzSN1L"
      },
      "outputs": [],
      "source": [
        "model.save('my_model1')"
      ]
    },
    {
      "cell_type": "code",
      "execution_count": null,
      "metadata": {
        "id": "BIEjQzRC1TEC"
      },
      "outputs": [],
      "source": [
        "#predictions\n",
        "#Lets predict and check performance metrics\n",
        "train_predict = model.predict(x_train)\n",
        "test_predict = model.predict(x_test)"
      ]
    },
    {
      "cell_type": "code",
      "execution_count": null,
      "metadata": {
        "id": "y4l9jEYM1Ttx"
      },
      "outputs": [],
      "source": [
        "#Transform back to original form\n",
        "train_predict = scaler.inverse_transform(train_predict)\n",
        "test_predict = scaler.inverse_transform(test_predict)"
      ]
    },
    {
      "cell_type": "code",
      "execution_count": null,
      "metadata": {
        "id": "TN0zceNvUCwE"
      },
      "outputs": [],
      "source": [
        "y_test1=y_test.reshape(-1,1)\n",
        "y_test1 = scaler.inverse_transform(y_test1)"
      ]
    },
    {
      "cell_type": "code",
      "execution_count": null,
      "metadata": {
        "id": "2mL_GfeSUk69"
      },
      "outputs": [],
      "source": [
        "y_train1=y_train.reshape(-1,1)\n",
        "y_train1 = scaler.inverse_transform(y_train1)"
      ]
    },
    {
      "cell_type": "code",
      "execution_count": null,
      "metadata": {
        "colab": {
          "base_uri": "https://localhost:8080/"
        },
        "id": "NfSJp5wR8xH4",
        "outputId": "dd9eee37-621c-4c92-eb94-50e7b366daea"
      },
      "outputs": [
        {
          "data": {
            "text/plain": [
              "array([[246.64877],\n",
              "       [259.61926],\n",
              "       [253.57881],\n",
              "       [249.49094],\n",
              "       [247.5336 ],\n",
              "       [238.84657],\n",
              "       [235.05829],\n",
              "       [243.68466],\n",
              "       [236.58426],\n",
              "       [249.63383],\n",
              "       [252.04016],\n",
              "       [251.78885],\n",
              "       [252.62141],\n",
              "       [252.04771],\n",
              "       [253.35147],\n",
              "       [251.0526 ],\n",
              "       [244.05615],\n",
              "       [252.71457],\n",
              "       [244.50569],\n",
              "       [255.1797 ],\n",
              "       [257.8228 ],\n",
              "       [255.14258],\n",
              "       [256.6595 ],\n",
              "       [246.67363],\n",
              "       [232.73892],\n",
              "       [240.79126],\n",
              "       [243.11858],\n",
              "       [235.2327 ],\n",
              "       [236.26144],\n",
              "       [244.16481],\n",
              "       [244.67125],\n",
              "       [236.8044 ],\n",
              "       [255.56955],\n",
              "       [257.79343],\n",
              "       [251.19244],\n",
              "       [254.10246],\n",
              "       [254.15352],\n",
              "       [257.2296 ],\n",
              "       [256.34506],\n",
              "       [252.90732],\n",
              "       [253.35313],\n",
              "       [255.60861],\n",
              "       [258.84518],\n",
              "       [259.6842 ],\n",
              "       [261.58362],\n",
              "       [263.72754],\n",
              "       [264.45453],\n",
              "       [261.47333],\n",
              "       [260.4969 ],\n",
              "       [266.46832],\n",
              "       [268.2486 ],\n",
              "       [268.47705],\n",
              "       [272.05084],\n",
              "       [269.47064],\n",
              "       [259.9466 ],\n",
              "       [263.59955],\n",
              "       [271.7863 ],\n",
              "       [262.36334],\n",
              "       [266.16986],\n",
              "       [257.25308],\n",
              "       [262.11063],\n",
              "       [218.51082],\n",
              "       [210.95752],\n",
              "       [218.58337],\n",
              "       [228.6049 ],\n",
              "       [223.14449],\n",
              "       [223.6187 ],\n",
              "       [230.78473],\n",
              "       [234.37363],\n",
              "       [238.92981],\n",
              "       [242.42795],\n",
              "       [244.79254],\n",
              "       [241.34602],\n",
              "       [247.60382],\n",
              "       [251.91553],\n",
              "       [249.79134],\n",
              "       [239.0426 ],\n",
              "       [249.13084],\n",
              "       [251.37778],\n",
              "       [251.25717],\n",
              "       [251.38571],\n",
              "       [247.19005],\n",
              "       [251.70148],\n",
              "       [253.26483],\n",
              "       [257.42514],\n",
              "       [256.5722 ],\n",
              "       [257.74503],\n",
              "       [249.74113],\n",
              "       [243.67719],\n",
              "       [242.09206],\n",
              "       [246.87323],\n",
              "       [248.37958],\n",
              "       [250.7559 ],\n",
              "       [248.26263],\n",
              "       [246.95532],\n",
              "       [252.93684],\n",
              "       [247.27998],\n",
              "       [258.08633],\n",
              "       [259.4477 ],\n",
              "       [255.15579],\n",
              "       [249.92268],\n",
              "       [258.25168],\n",
              "       [258.54977],\n",
              "       [252.60446],\n",
              "       [249.06909],\n",
              "       [243.52623],\n",
              "       [227.39977],\n",
              "       [235.99287],\n",
              "       [224.89325],\n",
              "       [220.2161 ],\n",
              "       [227.76813],\n",
              "       [231.92987],\n",
              "       [234.16684],\n",
              "       [223.90564],\n",
              "       [228.25142],\n",
              "       [231.5973 ],\n",
              "       [231.08759],\n",
              "       [235.7534 ],\n",
              "       [224.01219],\n",
              "       [225.77986],\n",
              "       [225.20967],\n",
              "       [230.03456],\n",
              "       [227.37073],\n",
              "       [226.45424],\n",
              "       [227.46808],\n",
              "       [223.79701],\n",
              "       [225.28491],\n",
              "       [227.77211],\n",
              "       [228.8074 ],\n",
              "       [230.7433 ],\n",
              "       [232.05632],\n",
              "       [229.58029],\n",
              "       [225.30084],\n",
              "       [222.23857],\n",
              "       [228.33337],\n",
              "       [224.17422],\n",
              "       [225.74855],\n",
              "       [226.76236],\n",
              "       [225.00534],\n",
              "       [227.30928],\n",
              "       [215.29794],\n",
              "       [216.15897],\n",
              "       [215.12958],\n",
              "       [217.06001],\n",
              "       [215.80455],\n",
              "       [210.1203 ],\n",
              "       [216.64822],\n",
              "       [222.5504 ],\n",
              "       [224.65887],\n",
              "       [224.80525],\n",
              "       [224.87245],\n",
              "       [224.90039],\n",
              "       [223.69958],\n",
              "       [225.64726],\n",
              "       [224.6253 ]], dtype=float32)"
            ]
          },
          "execution_count": 41,
          "metadata": {},
          "output_type": "execute_result"
        }
      ],
      "source": [
        "test_predict"
      ]
    },
    {
      "cell_type": "code",
      "execution_count": null,
      "metadata": {
        "colab": {
          "base_uri": "https://localhost:8080/",
          "height": 448
        },
        "id": "u-TAKKny7Aqi",
        "outputId": "be6a89ab-b271-40a9-81a8-f7efae7e10aa"
      },
      "outputs": [
        {
          "data": {
            "text/plain": [
              "[<matplotlib.lines.Line2D at 0x7d57d13df310>]"
            ]
          },
          "execution_count": 29,
          "metadata": {},
          "output_type": "execute_result"
        },
        {
          "data": {
            "image/png": "[encoded data removed]",
            "text/plain": [
              "<Figure size 640x480 with 1 Axes>"
            ]
          },
          "metadata": {},
          "output_type": "display_data"
        }
      ],
      "source": [
        "plt.plot(y_test)"
      ]
    },
    {
      "cell_type": "code",
      "execution_count": null,
      "metadata": {
        "colab": {
          "base_uri": "https://localhost:8080/"
        },
        "id": "ySwGXgMw-k76",
        "outputId": "1d871c03-5615-4f7f-d3df-0cf3a2deab6f"
      },
      "outputs": [
        {
          "name": "stdout",
          "output_type": "stream",
          "text": [
            "2.7750154847492485\n"
          ]
        }
      ],
      "source": [
        "#Calculate RMSE performance metrics\n",
        "import math\n",
        "from sklearn.metrics import mean_squared_error\n",
        "print(math.sqrt(mean_squared_error(y_train1, train_predict)))"
      ]
    },
    {
      "cell_type": "code",
      "execution_count": null,
      "metadata": {
        "colab": {
          "base_uri": "https://localhost:8080/"
        },
        "id": "WvQ46fJZ-mgy",
        "outputId": "59688bd2-9561-40d8-d812-8142da53d5c8"
      },
      "outputs": [
        {
          "data": {
            "text/plain": [
              "18.93472626145916"
            ]
          },
          "execution_count": 47,
          "metadata": {},
          "output_type": "execute_result"
        }
      ],
      "source": [
        "#Test Data RMSE\n",
        "math.sqrt(mean_squared_error(y_test1, test_predict))"
      ]
    },
    {
      "cell_type": "code",
      "execution_count": null,
      "metadata": {
        "colab": {
          "base_uri": "https://localhost:8080/",
          "height": 448
        },
        "id": "gJbIVtbGaQTb",
        "outputId": "5fff6019-68b4-42bf-e1f5-b67d9d57c0d0"
      },
      "outputs": [
        {
          "data": {
            "text/plain": [
              "[<matplotlib.lines.Line2D at 0x7aceaf9d0c10>]"
            ]
          },
          "execution_count": 49,
          "metadata": {},
          "output_type": "execute_result"
        },
        {
          "data": {
            "image/png": "[encoded data removed]",
            "text/plain": [
              "<Figure size 640x480 with 1 Axes>"
            ]
          },
          "metadata": {},
          "output_type": "display_data"
        }
      ],
      "source": [
        "plt.plot(df1)"
      ]
    },
    {
      "cell_type": "code",
      "execution_count": null,
      "metadata": {
        "colab": {
          "base_uri": "https://localhost:8080/",
          "height": 430
        },
        "id": "H6Od1yXI-s0_",
        "outputId": "9c732060-bc24-49a2-cacd-34e36fa4f88d"
      },
      "outputs": [
        {
          "data": {
            "image/png": "[encoded data removed]",
            "text/plain": [
              "<Figure size 640x480 with 1 Axes>"
            ]
          },
          "metadata": {},
          "output_type": "display_data"
        }
      ],
      "source": [
        "### Plotting\n",
        "# shift train predictions for plotting\n",
        "look_back=150\n",
        "trainPredictPlot = np.empty_like(df1)\n",
        "trainPredictPlot[:, :] = np.nan\n",
        "trainPredictPlot[look_back:len(train_predict)+look_back, :] = train_predict\n",
        "# shift test predictions for plotting\n",
        "testPredictPlot = np.empty_like(df1)\n",
        "testPredictPlot[:, :] = np.nan\n",
        "testPredictPlot[len(train_predict)+(look_back*2)+1:len(df1)-1, :] = test_predict\n",
        "# plot baseline and predictions\n",
        "plt.plot(scaler.inverse_transform(df1))\n",
        "plt.plot(trainPredictPlot)\n",
        "plt.plot(testPredictPlot)\n",
        "plt.show()"
      ]
    },
    {
      "cell_type": "markdown",
      "metadata": {},
      "source": [
        "PREDICTED VALUES CONVERGE WITH THE ACTUAL VALUES SO OUR MODEL PERFORMANCE IS AS EXPECTED"
      ]
    },
    {
      "cell_type": "code",
      "execution_count": null,
      "metadata": {
        "colab": {
          "base_uri": "https://localhost:8080/"
        },
        "id": "oKb0FLefZaz2",
        "outputId": "7f2c22a6-8621-41b9-a9ab-f31af4195c68"
      },
      "outputs": [
        {
          "data": {
            "text/plain": [
              "array([[[0.31372549],\n",
              "        [0.3496732 ],\n",
              "        [0.36172386],\n",
              "        ...,\n",
              "        [0.81372549],\n",
              "        [0.81495098],\n",
              "        [0.80596405]],\n",
              "\n",
              "       [[0.3496732 ],\n",
              "        [0.36172386],\n",
              "        [0.37908497],\n",
              "        ...,\n",
              "        [0.81495098],\n",
              "        [0.80596405],\n",
              "        [0.83394608]],\n",
              "\n",
              "       [[0.36172386],\n",
              "        [0.37908497],\n",
              "        [0.38582516],\n",
              "        ...,\n",
              "        [0.80596405],\n",
              "        [0.83394608],\n",
              "        [0.82107843]],\n",
              "\n",
              "       ...,\n",
              "\n",
              "       [[0.80923203],\n",
              "        [0.79513889],\n",
              "        [0.76388889],\n",
              "        ...,\n",
              "        [0.62888072],\n",
              "        [0.62765523],\n",
              "        [0.62234477]],\n",
              "\n",
              "       [[0.79513889],\n",
              "        [0.76388889],\n",
              "        [0.74305556],\n",
              "        ...,\n",
              "        [0.62765523],\n",
              "        [0.62234477],\n",
              "        [0.63378268]],\n",
              "\n",
              "       [[0.76388889],\n",
              "        [0.74305556],\n",
              "        [0.75837418],\n",
              "        ...,\n",
              "        [0.62234477],\n",
              "        [0.63378268],\n",
              "        [0.62622549]]])"
            ]
          },
          "execution_count": 88,
          "metadata": {},
          "output_type": "execute_result"
        }
      ],
      "source": [
        "x_test"
      ]
    },
    {
      "cell_type": "code",
      "execution_count": null,
      "metadata": {
        "colab": {
          "base_uri": "https://localhost:8080/"
        },
        "id": "Bl1PHGD5JmRW",
        "outputId": "97deb751-d055-4e40-8851-2777b7aae6de"
      },
      "outputs": [
        {
          "data": {
            "text/plain": [
              "array([[285.1 ],\n",
              "       [281.95],\n",
              "       [279.05],\n",
              "       [275.6 ],\n",
              "       [267.95],\n",
              "       [262.85],\n",
              "       [266.6 ],\n",
              "       [262.15],\n",
              "       [270.7 ],\n",
              "       [273.5 ],\n",
              "       [275.  ],\n",
              "       [275.5 ],\n",
              "       [274.85],\n",
              "       [275.65],\n",
              "       [274.15],\n",
              "       [268.9 ],\n",
              "       [273.4 ],\n",
              "       [268.35],\n",
              "       [276.05],\n",
              "       [278.2 ],\n",
              "       [278.5 ],\n",
              "       [279.6 ],\n",
              "       [272.4 ],\n",
              "       [260.6 ],\n",
              "       [262.05],\n",
              "       [263.2 ],\n",
              "       [258.85],\n",
              "       [257.9 ],\n",
              "       [262.2 ],\n",
              "       [263.8 ],\n",
              "       [258.75],\n",
              "       [276.95],\n",
              "       [274.8 ],\n",
              "       [270.25],\n",
              "       [273.  ],\n",
              "       [272.7 ],\n",
              "       [277.8 ],\n",
              "       [275.5 ],\n",
              "       [273.85],\n",
              "       [273.85],\n",
              "       [275.5 ],\n",
              "       [279.65],\n",
              "       [280.95],\n",
              "       [284.1 ],\n",
              "       [286.2 ],\n",
              "       [286.3 ],\n",
              "       [283.6 ],\n",
              "       [283.15],\n",
              "       [289.1 ],\n",
              "       [291.2 ],\n",
              "       [292.1 ],\n",
              "       [297.55],\n",
              "       [292.75],\n",
              "       [286.65],\n",
              "       [287.8 ],\n",
              "       [294.2 ],\n",
              "       [289.7 ],\n",
              "       [292.  ],\n",
              "       [285.25],\n",
              "       [287.5 ],\n",
              "       [255.9 ],\n",
              "       [242.65],\n",
              "       [241.1 ],\n",
              "       [247.5 ],\n",
              "       [244.7 ],\n",
              "       [243.55],\n",
              "       [247.15],\n",
              "       [250.2 ],\n",
              "       [254.5 ],\n",
              "       [257.85],\n",
              "       [260.65],\n",
              "       [257.5 ],\n",
              "       [264.5 ],\n",
              "       [269.2 ],\n",
              "       [263.25],\n",
              "       [255.25],\n",
              "       [263.75],\n",
              "       [265.75],\n",
              "       [267.1 ],\n",
              "       [266.95],\n",
              "       [263.7 ],\n",
              "       [267.6 ],\n",
              "       [269.6 ],\n",
              "       [277.8 ],\n",
              "       [272.15],\n",
              "       [275.35],\n",
              "       [267.05],\n",
              "       [260.85],\n",
              "       [258.2 ],\n",
              "       [262.1 ],\n",
              "       [264.5 ],\n",
              "       [267.35],\n",
              "       [265.6 ],\n",
              "       [263.95],\n",
              "       [269.35],\n",
              "       [264.45],\n",
              "       [281.  ],\n",
              "       [277.3 ],\n",
              "       [271.25],\n",
              "       [266.3 ],\n",
              "       [275.25],\n",
              "       [274.75],\n",
              "       [269.8 ],\n",
              "       [265.2 ],\n",
              "       [258.9 ],\n",
              "       [243.25],\n",
              "       [247.9 ],\n",
              "       [238.65],\n",
              "       [233.1 ],\n",
              "       [238.6 ],\n",
              "       [243.3 ],\n",
              "       [246.3 ],\n",
              "       [236.9 ],\n",
              "       [239.1 ],\n",
              "       [242.25],\n",
              "       [242.2 ],\n",
              "       [246.9 ],\n",
              "       [235.65],\n",
              "       [235.45],\n",
              "       [234.65],\n",
              "       [239.5 ],\n",
              "       [237.6 ],\n",
              "       [236.35],\n",
              "       [237.3 ],\n",
              "       [233.55],\n",
              "       [234.55],\n",
              "       [237.55],\n",
              "       [239.35],\n",
              "       [243.  ],\n",
              "       [245.15],\n",
              "       [240.55],\n",
              "       [235.45],\n",
              "       [231.  ],\n",
              "       [237.05],\n",
              "       [233.35],\n",
              "       [234.55],\n",
              "       [236.  ],\n",
              "       [234.3 ],\n",
              "       [236.7 ],\n",
              "       [223.7 ],\n",
              "       [222.4 ],\n",
              "       [221.05],\n",
              "       [222.95],\n",
              "       [222.  ],\n",
              "       [216.  ],\n",
              "       [222.65],\n",
              "       [233.95],\n",
              "       [236.6 ],\n",
              "       [235.05],\n",
              "       [234.9 ],\n",
              "       [234.6 ],\n",
              "       [233.3 ],\n",
              "       [236.1 ],\n",
              "       [234.25],\n",
              "       [233.25]])"
            ]
          },
          "execution_count": 51,
          "metadata": {},
          "output_type": "execute_result"
        }
      ],
      "source": [
        "y_test1"
      ]
    },
    {
      "cell_type": "code",
      "execution_count": null,
      "metadata": {
        "colab": {
          "base_uri": "https://localhost:8080/"
        },
        "id": "aW1gi680ZCTw",
        "outputId": "8c401d4a-b6a7-4151-f014-0d9d0bf21b27"
      },
      "outputs": [
        {
          "data": {
            "text/plain": [
              "array([[16986808.],\n",
              "       [17173200.],\n",
              "       [17018766.],\n",
              "       [16855708.],\n",
              "       [16706525.],\n",
              "       [16399110.],\n",
              "       [16174458.],\n",
              "       [16287623.],\n",
              "       [16092456.],\n",
              "       [16336284.],\n",
              "       [16419725.],\n",
              "       [16424139.],\n",
              "       [16414965.],\n",
              "       [16384485.],\n",
              "       [16420251.],\n",
              "       [16381207.],\n",
              "       [16192017.],\n",
              "       [16362208.],\n",
              "       [16200439.],\n",
              "       [16466179.],\n",
              "       [16573427.],\n",
              "       [16574500.],\n",
              "       [16619304.],\n",
              "       [16365934.],\n",
              "       [15918211.],\n",
              "       [15964467.],\n",
              "       [16027097.],\n",
              "       [15832937.],\n",
              "       [15733320.],\n",
              "       [15849201.],\n",
              "       [15879004.],\n",
              "       [15647778.],\n",
              "       [16237613.],\n",
              "       [16252364.],\n",
              "       [16030418.],\n",
              "       [16130597.],\n",
              "       [16172201.],\n",
              "       [16390349.],\n",
              "       [16348496.],\n",
              "       [16300540.],\n",
              "       [16331346.],\n",
              "       [16425667.],\n",
              "       [16608521.],\n",
              "       [16682512.],\n",
              "       [16818000.],\n",
              "       [16930820.],\n",
              "       [16968182.],\n",
              "       [16899944.],\n",
              "       [16919304.],\n",
              "       [17194200.],\n",
              "       [17317292.],\n",
              "       [17372320.],\n",
              "       [17621426.],\n",
              "       [17476648.],\n",
              "       [17262888.],\n",
              "       [17354392.],\n",
              "       [17651678.],\n",
              "       [17484510.],\n",
              "       [17568102.],\n",
              "       [17319332.],\n",
              "       [17404960.],\n",
              "       [16157760.],\n",
              "       [15441011.],\n",
              "       [15423538.],\n",
              "       [15658416.],\n",
              "       [15448809.],\n",
              "       [15225202.],\n",
              "       [15202019.],\n",
              "       [15202528.],\n",
              "       [15259452.],\n",
              "       [15314406.],\n",
              "       [15372699.],\n",
              "       [15246046.],\n",
              "       [15477887.],\n",
              "       [15701121.],\n",
              "       [15523269.],\n",
              "       [15235986.],\n",
              "       [15561190.],\n",
              "       [15718980.],\n",
              "       [15781541.],\n",
              "       [15791160.],\n",
              "       [15692062.],\n",
              "       [15848674.],\n",
              "       [15966304.],\n",
              "       [16290118.],\n",
              "       [16124618.],\n",
              "       [16239802.],\n",
              "       [15987538.],\n",
              "       [15760946.],\n",
              "       [15680169.],\n",
              "       [15832237.],\n",
              "       [15921279.],\n",
              "       [15997150.],\n",
              "       [15909928.],\n",
              "       [15821044.],\n",
              "       [16010676.],\n",
              "       [15850419.],\n",
              "       [16410790.],\n",
              "       [16387679.],\n",
              "       [16127242.],\n",
              "       [15954698.],\n",
              "       [16325257.],\n",
              "       [16367332.],\n",
              "       [16174787.],\n",
              "       [15998893.],\n",
              "       [15770372.],\n",
              "       [15166988.],\n",
              "       [15277425.],\n",
              "       [14935587.],\n",
              "       [14612843.],\n",
              "       [14723721.],\n",
              "       [14836039.],\n",
              "       [14853118.],\n",
              "       [14444106.],\n",
              "       [14396782.],\n",
              "       [14487472.],\n",
              "       [14469210.],\n",
              "       [14591569.],\n",
              "       [14210826.],\n",
              "       [14120738.],\n",
              "       [14101565.],\n",
              "       [14257086.],\n",
              "       [14203000.],\n",
              "       [14120029.],\n",
              "       [14126579.],\n",
              "       [13996997.],\n",
              "       [13996361.],\n",
              "       [14096716.],\n",
              "       [14163641.],\n",
              "       [14280108.],\n",
              "       [14363697.],\n",
              "       [14218416.],\n",
              "       [14027670.],\n",
              "       [13872419.],\n",
              "       [14073700.],\n",
              "       [13996925.],\n",
              "       [13996289.],\n",
              "       [14037326.],\n",
              "       [13974723.],\n",
              "       [14028303.],\n",
              "       [13603062.],\n",
              "       [13464321.],\n",
              "       [13415988.],\n",
              "       [13462318.],\n",
              "       [13411488.],\n",
              "       [13162109.],\n",
              "       [13295007.],\n",
              "       [13676355.],\n",
              "       [13800342.],\n",
              "       [13723273.],\n",
              "       [13692546.],\n",
              "       [13702429.],\n",
              "       [13692401.],\n",
              "       [13810299.],\n",
              "       [13798293.]], dtype=float32)"
            ]
          },
          "execution_count": 87,
          "metadata": {},
          "output_type": "execute_result"
        }
      ],
      "source": [
        "test_predict"
      ]
    },
    {
      "cell_type": "code",
      "execution_count": null,
      "metadata": {
        "colab": {
          "base_uri": "https://localhost:8080/"
        },
        "id": "StT79f7CKYRp",
        "outputId": "f356d764-882d-44e4-d93c-a33d705f9823"
      },
      "outputs": [
        {
          "data": {
            "text/plain": [
              "306"
            ]
          },
          "execution_count": 54,
          "metadata": {},
          "output_type": "execute_result"
        }
      ],
      "source": [
        "len(test_data)"
      ]
    },
    {
      "cell_type": "code",
      "execution_count": null,
      "metadata": {
        "colab": {
          "base_uri": "https://localhost:8080/"
        },
        "id": "7mOjvByb-w1I",
        "outputId": "4588f7f1-14b9-4e1d-89f3-2545694c9613"
      },
      "outputs": [
        {
          "data": {
            "text/plain": [
              "(1, 100)"
            ]
          },
          "execution_count": 55,
          "metadata": {},
          "output_type": "execute_result"
        }
      ],
      "source": [
        "x_input=test_data[206:].reshape(1,-1)\n",
        "x_input.shape"
      ]
    },
    {
      "cell_type": "code",
      "execution_count": null,
      "metadata": {
        "id": "RwwIGE7XKR2A"
      },
      "outputs": [],
      "source": [
        "temp_input=list(x_input)\n",
        "temp_input=temp_input[0].tolist()"
      ]
    },
    {
      "cell_type": "code",
      "execution_count": null,
      "metadata": {
        "colab": {
          "base_uri": "https://localhost:8080/"
        },
        "id": "39stWDzGKhmP",
        "outputId": "859326de-5e6d-4087-bcb7-2c14e2725b05"
      },
      "outputs": [
        {
          "name": "stdout",
          "output_type": "stream",
          "text": [
            "[0.58670014]\n",
            "101\n",
            "1 day input [0.86213235 0.83455882 0.84375    0.71466503 0.66053922 0.65420752\n",
            " 0.68035131 0.6689134  0.66421569 0.67892157 0.69138072 0.70894608\n",
            " 0.72263072 0.73406863 0.72120098 0.74979575 0.7689951  0.74468954\n",
            " 0.7120098  0.74673203 0.75490196 0.76041667 0.75980392 0.74652778\n",
            " 0.76245915 0.77062908 0.80412582 0.78104575 0.79411765 0.76021242\n",
            " 0.73488562 0.72406046 0.73999183 0.74979575 0.76143791 0.75428922\n",
            " 0.74754902 0.76960784 0.7495915  0.81719771 0.80208333 0.77736928\n",
            " 0.75714869 0.79370915 0.79166667 0.77144608 0.75265523 0.72691993\n",
            " 0.6629902  0.68198529 0.64419935 0.62152778 0.6439951  0.66319444\n",
            " 0.67544935 0.63705065 0.64603758 0.65890523 0.65870098 0.67790033\n",
            " 0.63194444 0.63112745 0.62785948 0.64767157 0.63991013 0.63480392\n",
            " 0.63868464 0.62336601 0.62745098 0.63970588 0.64705882 0.66196895\n",
            " 0.67075163 0.65196078 0.63112745 0.61294935 0.6376634  0.62254902\n",
            " 0.62745098 0.63337418 0.62642974 0.63623366 0.58312908 0.57781863\n",
            " 0.57230392 0.58006536 0.57618464 0.55167484 0.57883987 0.625\n",
            " 0.63582516 0.62949346 0.62888072 0.62765523 0.62234477 0.63378268\n",
            " 0.62622549 0.62214052 0.62418301 0.58670014]\n",
            "1 day output [[0.5547454]]\n",
            "2 day input [0.83455882 0.84375    0.71466503 0.66053922 0.65420752 0.68035131\n",
            " 0.6689134  0.66421569 0.67892157 0.69138072 0.70894608 0.72263072\n",
            " 0.73406863 0.72120098 0.74979575 0.7689951  0.74468954 0.7120098\n",
            " 0.74673203 0.75490196 0.76041667 0.75980392 0.74652778 0.76245915\n",
            " 0.77062908 0.80412582 0.78104575 0.79411765 0.76021242 0.73488562\n",
            " 0.72406046 0.73999183 0.74979575 0.76143791 0.75428922 0.74754902\n",
            " 0.76960784 0.7495915  0.81719771 0.80208333 0.77736928 0.75714869\n",
            " 0.79370915 0.79166667 0.77144608 0.75265523 0.72691993 0.6629902\n",
            " 0.68198529 0.64419935 0.62152778 0.6439951  0.66319444 0.67544935\n",
            " 0.63705065 0.64603758 0.65890523 0.65870098 0.67790033 0.63194444\n",
            " 0.63112745 0.62785948 0.64767157 0.63991013 0.63480392 0.63868464\n",
            " 0.62336601 0.62745098 0.63970588 0.64705882 0.66196895 0.67075163\n",
            " 0.65196078 0.63112745 0.61294935 0.6376634  0.62254902 0.62745098\n",
            " 0.63337418 0.62642974 0.63623366 0.58312908 0.57781863 0.57230392\n",
            " 0.58006536 0.57618464 0.55167484 0.57883987 0.625      0.63582516\n",
            " 0.62949346 0.62888072 0.62765523 0.62234477 0.63378268 0.62622549\n",
            " 0.62214052 0.62418301 0.58670014 0.55474538]\n",
            "2 day output [[0.5315502]]\n",
            "3 day input [0.84375    0.71466503 0.66053922 0.65420752 0.68035131 0.6689134\n",
            " 0.66421569 0.67892157 0.69138072 0.70894608 0.72263072 0.73406863\n",
            " 0.72120098 0.74979575 0.7689951  0.74468954 0.7120098  0.74673203\n",
            " 0.75490196 0.76041667 0.75980392 0.74652778 0.76245915 0.77062908\n",
            " 0.80412582 0.78104575 0.79411765 0.76021242 0.73488562 0.72406046\n",
            " 0.73999183 0.74979575 0.76143791 0.75428922 0.74754902 0.76960784\n",
            " 0.7495915  0.81719771 0.80208333 0.77736928 0.75714869 0.79370915\n",
            " 0.79166667 0.77144608 0.75265523 0.72691993 0.6629902  0.68198529\n",
            " 0.64419935 0.62152778 0.6439951  0.66319444 0.67544935 0.63705065\n",
            " 0.64603758 0.65890523 0.65870098 0.67790033 0.63194444 0.63112745\n",
            " 0.62785948 0.64767157 0.63991013 0.63480392 0.63868464 0.62336601\n",
            " 0.62745098 0.63970588 0.64705882 0.66196895 0.67075163 0.65196078\n",
            " 0.63112745 0.61294935 0.6376634  0.62254902 0.62745098 0.63337418\n",
            " 0.62642974 0.63623366 0.58312908 0.57781863 0.57230392 0.58006536\n",
            " 0.57618464 0.55167484 0.57883987 0.625      0.63582516 0.62949346\n",
            " 0.62888072 0.62765523 0.62234477 0.63378268 0.62622549 0.62214052\n",
            " 0.62418301 0.58670014 0.55474538 0.53155023]\n",
            "3 day output [[0.51348317]]\n",
            "4 day input [0.71466503 0.66053922 0.65420752 0.68035131 0.6689134  0.66421569\n",
            " 0.67892157 0.69138072 0.70894608 0.72263072 0.73406863 0.72120098\n",
            " 0.74979575 0.7689951  0.74468954 0.7120098  0.74673203 0.75490196\n",
            " 0.76041667 0.75980392 0.74652778 0.76245915 0.77062908 0.80412582\n",
            " 0.78104575 0.79411765 0.76021242 0.73488562 0.72406046 0.73999183\n",
            " 0.74979575 0.76143791 0.75428922 0.74754902 0.76960784 0.7495915\n",
            " 0.81719771 0.80208333 0.77736928 0.75714869 0.79370915 0.79166667\n",
            " 0.77144608 0.75265523 0.72691993 0.6629902  0.68198529 0.64419935\n",
            " 0.62152778 0.6439951  0.66319444 0.67544935 0.63705065 0.64603758\n",
            " 0.65890523 0.65870098 0.67790033 0.63194444 0.63112745 0.62785948\n",
            " 0.64767157 0.63991013 0.63480392 0.63868464 0.62336601 0.62745098\n",
            " 0.63970588 0.64705882 0.66196895 0.67075163 0.65196078 0.63112745\n",
            " 0.61294935 0.6376634  0.62254902 0.62745098 0.63337418 0.62642974\n",
            " 0.63623366 0.58312908 0.57781863 0.57230392 0.58006536 0.57618464\n",
            " 0.55167484 0.57883987 0.625      0.63582516 0.62949346 0.62888072\n",
            " 0.62765523 0.62234477 0.63378268 0.62622549 0.62214052 0.62418301\n",
            " 0.58670014 0.55474538 0.53155023 0.51348317]\n",
            "4 day output [[0.4983724]]\n",
            "5 day input [0.66053922 0.65420752 0.68035131 0.6689134  0.66421569 0.67892157\n",
            " 0.69138072 0.70894608 0.72263072 0.73406863 0.72120098 0.74979575\n",
            " 0.7689951  0.74468954 0.7120098  0.74673203 0.75490196 0.76041667\n",
            " 0.75980392 0.74652778 0.76245915 0.77062908 0.80412582 0.78104575\n",
            " 0.79411765 0.76021242 0.73488562 0.72406046 0.73999183 0.74979575\n",
            " 0.76143791 0.75428922 0.74754902 0.76960784 0.7495915  0.81719771\n",
            " 0.80208333 0.77736928 0.75714869 0.79370915 0.79166667 0.77144608\n",
            " 0.75265523 0.72691993 0.6629902  0.68198529 0.64419935 0.62152778\n",
            " 0.6439951  0.66319444 0.67544935 0.63705065 0.64603758 0.65890523\n",
            " 0.65870098 0.67790033 0.63194444 0.63112745 0.62785948 0.64767157\n",
            " 0.63991013 0.63480392 0.63868464 0.62336601 0.62745098 0.63970588\n",
            " 0.64705882 0.66196895 0.67075163 0.65196078 0.63112745 0.61294935\n",
            " 0.6376634  0.62254902 0.62745098 0.63337418 0.62642974 0.63623366\n",
            " 0.58312908 0.57781863 0.57230392 0.58006536 0.57618464 0.55167484\n",
            " 0.57883987 0.625      0.63582516 0.62949346 0.62888072 0.62765523\n",
            " 0.62234477 0.63378268 0.62622549 0.62214052 0.62418301 0.58670014\n",
            " 0.55474538 0.53155023 0.51348317 0.49837241]\n",
            "5 day output [[0.48466605]]\n",
            "6 day input [0.65420752 0.68035131 0.6689134  0.66421569 0.67892157 0.69138072\n",
            " 0.70894608 0.72263072 0.73406863 0.72120098 0.74979575 0.7689951\n",
            " 0.74468954 0.7120098  0.74673203 0.75490196 0.76041667 0.75980392\n",
            " 0.74652778 0.76245915 0.77062908 0.80412582 0.78104575 0.79411765\n",
            " 0.76021242 0.73488562 0.72406046 0.73999183 0.74979575 0.76143791\n",
            " 0.75428922 0.74754902 0.76960784 0.7495915  0.81719771 0.80208333\n",
            " 0.77736928 0.75714869 0.79370915 0.79166667 0.77144608 0.75265523\n",
            " 0.72691993 0.6629902  0.68198529 0.64419935 0.62152778 0.6439951\n",
            " 0.66319444 0.67544935 0.63705065 0.64603758 0.65890523 0.65870098\n",
            " 0.67790033 0.63194444 0.63112745 0.62785948 0.64767157 0.63991013\n",
            " 0.63480392 0.63868464 0.62336601 0.62745098 0.63970588 0.64705882\n",
            " 0.66196895 0.67075163 0.65196078 0.63112745 0.61294935 0.6376634\n",
            " 0.62254902 0.62745098 0.63337418 0.62642974 0.63623366 0.58312908\n",
            " 0.57781863 0.57230392 0.58006536 0.57618464 0.55167484 0.57883987\n",
            " 0.625      0.63582516 0.62949346 0.62888072 0.62765523 0.62234477\n",
            " 0.63378268 0.62622549 0.62214052 0.62418301 0.58670014 0.55474538\n",
            " 0.53155023 0.51348317 0.49837241 0.48466605]\n",
            "6 day output [[0.47169322]]\n",
            "7 day input [0.68035131 0.6689134  0.66421569 0.67892157 0.69138072 0.70894608\n",
            " 0.72263072 0.73406863 0.72120098 0.74979575 0.7689951  0.74468954\n",
            " 0.7120098  0.74673203 0.75490196 0.76041667 0.75980392 0.74652778\n",
            " 0.76245915 0.77062908 0.80412582 0.78104575 0.79411765 0.76021242\n",
            " 0.73488562 0.72406046 0.73999183 0.74979575 0.76143791 0.75428922\n",
            " 0.74754902 0.76960784 0.7495915  0.81719771 0.80208333 0.77736928\n",
            " 0.75714869 0.79370915 0.79166667 0.77144608 0.75265523 0.72691993\n",
            " 0.6629902  0.68198529 0.64419935 0.62152778 0.6439951  0.66319444\n",
            " 0.67544935 0.63705065 0.64603758 0.65890523 0.65870098 0.67790033\n",
            " 0.63194444 0.63112745 0.62785948 0.64767157 0.63991013 0.63480392\n",
            " 0.63868464 0.62336601 0.62745098 0.63970588 0.64705882 0.66196895\n",
            " 0.67075163 0.65196078 0.63112745 0.61294935 0.6376634  0.62254902\n",
            " 0.62745098 0.63337418 0.62642974 0.63623366 0.58312908 0.57781863\n",
            " 0.57230392 0.58006536 0.57618464 0.55167484 0.57883987 0.625\n",
            " 0.63582516 0.62949346 0.62888072 0.62765523 0.62234477 0.63378268\n",
            " 0.62622549 0.62214052 0.62418301 0.58670014 0.55474538 0.53155023\n",
            " 0.51348317 0.49837241 0.48466605 0.47169322]\n",
            "7 day output [[0.4594462]]\n",
            "8 day input [0.6689134  0.66421569 0.67892157 0.69138072 0.70894608 0.72263072\n",
            " 0.73406863 0.72120098 0.74979575 0.7689951  0.74468954 0.7120098\n",
            " 0.74673203 0.75490196 0.76041667 0.75980392 0.74652778 0.76245915\n",
            " 0.77062908 0.80412582 0.78104575 0.79411765 0.76021242 0.73488562\n",
            " 0.72406046 0.73999183 0.74979575 0.76143791 0.75428922 0.74754902\n",
            " 0.76960784 0.7495915  0.81719771 0.80208333 0.77736928 0.75714869\n",
            " 0.79370915 0.79166667 0.77144608 0.75265523 0.72691993 0.6629902\n",
            " 0.68198529 0.64419935 0.62152778 0.6439951  0.66319444 0.67544935\n",
            " 0.63705065 0.64603758 0.65890523 0.65870098 0.67790033 0.63194444\n",
            " 0.63112745 0.62785948 0.64767157 0.63991013 0.63480392 0.63868464\n",
            " 0.62336601 0.62745098 0.63970588 0.64705882 0.66196895 0.67075163\n",
            " 0.65196078 0.63112745 0.61294935 0.6376634  0.62254902 0.62745098\n",
            " 0.63337418 0.62642974 0.63623366 0.58312908 0.57781863 0.57230392\n",
            " 0.58006536 0.57618464 0.55167484 0.57883987 0.625      0.63582516\n",
            " 0.62949346 0.62888072 0.62765523 0.62234477 0.63378268 0.62622549\n",
            " 0.62214052 0.62418301 0.58670014 0.55474538 0.53155023 0.51348317\n",
            " 0.49837241 0.48466605 0.47169322 0.45944619]\n",
            "8 day output [[0.44810054]]\n",
            "9 day input [0.66421569 0.67892157 0.69138072 0.70894608 0.72263072 0.73406863\n",
            " 0.72120098 0.74979575 0.7689951  0.74468954 0.7120098  0.74673203\n",
            " 0.75490196 0.76041667 0.75980392 0.74652778 0.76245915 0.77062908\n",
            " 0.80412582 0.78104575 0.79411765 0.76021242 0.73488562 0.72406046\n",
            " 0.73999183 0.74979575 0.76143791 0.75428922 0.74754902 0.76960784\n",
            " 0.7495915  0.81719771 0.80208333 0.77736928 0.75714869 0.79370915\n",
            " 0.79166667 0.77144608 0.75265523 0.72691993 0.6629902  0.68198529\n",
            " 0.64419935 0.62152778 0.6439951  0.66319444 0.67544935 0.63705065\n",
            " 0.64603758 0.65890523 0.65870098 0.67790033 0.63194444 0.63112745\n",
            " 0.62785948 0.64767157 0.63991013 0.63480392 0.63868464 0.62336601\n",
            " 0.62745098 0.63970588 0.64705882 0.66196895 0.67075163 0.65196078\n",
            " 0.63112745 0.61294935 0.6376634  0.62254902 0.62745098 0.63337418\n",
            " 0.62642974 0.63623366 0.58312908 0.57781863 0.57230392 0.58006536\n",
            " 0.57618464 0.55167484 0.57883987 0.625      0.63582516 0.62949346\n",
            " 0.62888072 0.62765523 0.62234477 0.63378268 0.62622549 0.62214052\n",
            " 0.62418301 0.58670014 0.55474538 0.53155023 0.51348317 0.49837241\n",
            " 0.48466605 0.47169322 0.45944619 0.44810054]\n",
            "9 day output [[0.437821]]\n",
            "10 day input [0.67892157 0.69138072 0.70894608 0.72263072 0.73406863 0.72120098\n",
            " 0.74979575 0.7689951  0.74468954 0.7120098  0.74673203 0.75490196\n",
            " 0.76041667 0.75980392 0.74652778 0.76245915 0.77062908 0.80412582\n",
            " 0.78104575 0.79411765 0.76021242 0.73488562 0.72406046 0.73999183\n",
            " 0.74979575 0.76143791 0.75428922 0.74754902 0.76960784 0.7495915\n",
            " 0.81719771 0.80208333 0.77736928 0.75714869 0.79370915 0.79166667\n",
            " 0.77144608 0.75265523 0.72691993 0.6629902  0.68198529 0.64419935\n",
            " 0.62152778 0.6439951  0.66319444 0.67544935 0.63705065 0.64603758\n",
            " 0.65890523 0.65870098 0.67790033 0.63194444 0.63112745 0.62785948\n",
            " 0.64767157 0.63991013 0.63480392 0.63868464 0.62336601 0.62745098\n",
            " 0.63970588 0.64705882 0.66196895 0.67075163 0.65196078 0.63112745\n",
            " 0.61294935 0.6376634  0.62254902 0.62745098 0.63337418 0.62642974\n",
            " 0.63623366 0.58312908 0.57781863 0.57230392 0.58006536 0.57618464\n",
            " 0.55167484 0.57883987 0.625      0.63582516 0.62949346 0.62888072\n",
            " 0.62765523 0.62234477 0.63378268 0.62622549 0.62214052 0.62418301\n",
            " 0.58670014 0.55474538 0.53155023 0.51348317 0.49837241 0.48466605\n",
            " 0.47169322 0.45944619 0.44810054 0.437821  ]\n",
            "10 day output [[0.4287153]]\n",
            "11 day input [0.69138072 0.70894608 0.72263072 0.73406863 0.72120098 0.74979575\n",
            " 0.7689951  0.74468954 0.7120098  0.74673203 0.75490196 0.76041667\n",
            " 0.75980392 0.74652778 0.76245915 0.77062908 0.80412582 0.78104575\n",
            " 0.79411765 0.76021242 0.73488562 0.72406046 0.73999183 0.74979575\n",
            " 0.76143791 0.75428922 0.74754902 0.76960784 0.7495915  0.81719771\n",
            " 0.80208333 0.77736928 0.75714869 0.79370915 0.79166667 0.77144608\n",
            " 0.75265523 0.72691993 0.6629902  0.68198529 0.64419935 0.62152778\n",
            " 0.6439951  0.66319444 0.67544935 0.63705065 0.64603758 0.65890523\n",
            " 0.65870098 0.67790033 0.63194444 0.63112745 0.62785948 0.64767157\n",
            " 0.63991013 0.63480392 0.63868464 0.62336601 0.62745098 0.63970588\n",
            " 0.64705882 0.66196895 0.67075163 0.65196078 0.63112745 0.61294935\n",
            " 0.6376634  0.62254902 0.62745098 0.63337418 0.62642974 0.63623366\n",
            " 0.58312908 0.57781863 0.57230392 0.58006536 0.57618464 0.55167484\n",
            " 0.57883987 0.625      0.63582516 0.62949346 0.62888072 0.62765523\n",
            " 0.62234477 0.63378268 0.62622549 0.62214052 0.62418301 0.58670014\n",
            " 0.55474538 0.53155023 0.51348317 0.49837241 0.48466605 0.47169322\n",
            " 0.45944619 0.44810054 0.437821   0.42871529]\n",
            "11 day output [[0.42084873]]\n",
            "12 day input [0.70894608 0.72263072 0.73406863 0.72120098 0.74979575 0.7689951\n",
            " 0.74468954 0.7120098  0.74673203 0.75490196 0.76041667 0.75980392\n",
            " 0.74652778 0.76245915 0.77062908 0.80412582 0.78104575 0.79411765\n",
            " 0.76021242 0.73488562 0.72406046 0.73999183 0.74979575 0.76143791\n",
            " 0.75428922 0.74754902 0.76960784 0.7495915  0.81719771 0.80208333\n",
            " 0.77736928 0.75714869 0.79370915 0.79166667 0.77144608 0.75265523\n",
            " 0.72691993 0.6629902  0.68198529 0.64419935 0.62152778 0.6439951\n",
            " 0.66319444 0.67544935 0.63705065 0.64603758 0.65890523 0.65870098\n",
            " 0.67790033 0.63194444 0.63112745 0.62785948 0.64767157 0.63991013\n",
            " 0.63480392 0.63868464 0.62336601 0.62745098 0.63970588 0.64705882\n",
            " 0.66196895 0.67075163 0.65196078 0.63112745 0.61294935 0.6376634\n",
            " 0.62254902 0.62745098 0.63337418 0.62642974 0.63623366 0.58312908\n",
            " 0.57781863 0.57230392 0.58006536 0.57618464 0.55167484 0.57883987\n",
            " 0.625      0.63582516 0.62949346 0.62888072 0.62765523 0.62234477\n",
            " 0.63378268 0.62622549 0.62214052 0.62418301 0.58670014 0.55474538\n",
            " 0.53155023 0.51348317 0.49837241 0.48466605 0.47169322 0.45944619\n",
            " 0.44810054 0.437821   0.42871529 0.42084873]\n",
            "12 day output [[0.4141944]]\n",
            "13 day input [0.72263072 0.73406863 0.72120098 0.74979575 0.7689951  0.74468954\n",
            " 0.7120098  0.74673203 0.75490196 0.76041667 0.75980392 0.74652778\n",
            " 0.76245915 0.77062908 0.80412582 0.78104575 0.79411765 0.76021242\n",
            " 0.73488562 0.72406046 0.73999183 0.74979575 0.76143791 0.75428922\n",
            " 0.74754902 0.76960784 0.7495915  0.81719771 0.80208333 0.77736928\n",
            " 0.75714869 0.79370915 0.79166667 0.77144608 0.75265523 0.72691993\n",
            " 0.6629902  0.68198529 0.64419935 0.62152778 0.6439951  0.66319444\n",
            " 0.67544935 0.63705065 0.64603758 0.65890523 0.65870098 0.67790033\n",
            " 0.63194444 0.63112745 0.62785948 0.64767157 0.63991013 0.63480392\n",
            " 0.63868464 0.62336601 0.62745098 0.63970588 0.64705882 0.66196895\n",
            " 0.67075163 0.65196078 0.63112745 0.61294935 0.6376634  0.62254902\n",
            " 0.62745098 0.63337418 0.62642974 0.63623366 0.58312908 0.57781863\n",
            " 0.57230392 0.58006536 0.57618464 0.55167484 0.57883987 0.625\n",
            " 0.63582516 0.62949346 0.62888072 0.62765523 0.62234477 0.63378268\n",
            " 0.62622549 0.62214052 0.62418301 0.58670014 0.55474538 0.53155023\n",
            " 0.51348317 0.49837241 0.48466605 0.47169322 0.45944619 0.44810054\n",
            " 0.437821   0.42871529 0.42084873 0.41419441]\n",
            "13 day output [[0.40865678]]\n",
            "14 day input [0.73406863 0.72120098 0.74979575 0.7689951  0.74468954 0.7120098\n",
            " 0.74673203 0.75490196 0.76041667 0.75980392 0.74652778 0.76245915\n",
            " 0.77062908 0.80412582 0.78104575 0.79411765 0.76021242 0.73488562\n",
            " 0.72406046 0.73999183 0.74979575 0.76143791 0.75428922 0.74754902\n",
            " 0.76960784 0.7495915  0.81719771 0.80208333 0.77736928 0.75714869\n",
            " 0.79370915 0.79166667 0.77144608 0.75265523 0.72691993 0.6629902\n",
            " 0.68198529 0.64419935 0.62152778 0.6439951  0.66319444 0.67544935\n",
            " 0.63705065 0.64603758 0.65890523 0.65870098 0.67790033 0.63194444\n",
            " 0.63112745 0.62785948 0.64767157 0.63991013 0.63480392 0.63868464\n",
            " 0.62336601 0.62745098 0.63970588 0.64705882 0.66196895 0.67075163\n",
            " 0.65196078 0.63112745 0.61294935 0.6376634  0.62254902 0.62745098\n",
            " 0.63337418 0.62642974 0.63623366 0.58312908 0.57781863 0.57230392\n",
            " 0.58006536 0.57618464 0.55167484 0.57883987 0.625      0.63582516\n",
            " 0.62949346 0.62888072 0.62765523 0.62234477 0.63378268 0.62622549\n",
            " 0.62214052 0.62418301 0.58670014 0.55474538 0.53155023 0.51348317\n",
            " 0.49837241 0.48466605 0.47169322 0.45944619 0.44810054 0.437821\n",
            " 0.42871529 0.42084873 0.41419441 0.40865678]\n",
            "14 day output [[0.40409774]]\n",
            "15 day input [0.72120098 0.74979575 0.7689951  0.74468954 0.7120098  0.74673203\n",
            " 0.75490196 0.76041667 0.75980392 0.74652778 0.76245915 0.77062908\n",
            " 0.80412582 0.78104575 0.79411765 0.76021242 0.73488562 0.72406046\n",
            " 0.73999183 0.74979575 0.76143791 0.75428922 0.74754902 0.76960784\n",
            " 0.7495915  0.81719771 0.80208333 0.77736928 0.75714869 0.79370915\n",
            " 0.79166667 0.77144608 0.75265523 0.72691993 0.6629902  0.68198529\n",
            " 0.64419935 0.62152778 0.6439951  0.66319444 0.67544935 0.63705065\n",
            " 0.64603758 0.65890523 0.65870098 0.67790033 0.63194444 0.63112745\n",
            " 0.62785948 0.64767157 0.63991013 0.63480392 0.63868464 0.62336601\n",
            " 0.62745098 0.63970588 0.64705882 0.66196895 0.67075163 0.65196078\n",
            " 0.63112745 0.61294935 0.6376634  0.62254902 0.62745098 0.63337418\n",
            " 0.62642974 0.63623366 0.58312908 0.57781863 0.57230392 0.58006536\n",
            " 0.57618464 0.55167484 0.57883987 0.625      0.63582516 0.62949346\n",
            " 0.62888072 0.62765523 0.62234477 0.63378268 0.62622549 0.62214052\n",
            " 0.62418301 0.58670014 0.55474538 0.53155023 0.51348317 0.49837241\n",
            " 0.48466605 0.47169322 0.45944619 0.44810054 0.437821   0.42871529\n",
            " 0.42084873 0.41419441 0.40865678 0.40409774]\n",
            "15 day output [[0.4003692]]\n",
            "16 day input [0.74979575 0.7689951  0.74468954 0.7120098  0.74673203 0.75490196\n",
            " 0.76041667 0.75980392 0.74652778 0.76245915 0.77062908 0.80412582\n",
            " 0.78104575 0.79411765 0.76021242 0.73488562 0.72406046 0.73999183\n",
            " 0.74979575 0.76143791 0.75428922 0.74754902 0.76960784 0.7495915\n",
            " 0.81719771 0.80208333 0.77736928 0.75714869 0.79370915 0.79166667\n",
            " 0.77144608 0.75265523 0.72691993 0.6629902  0.68198529 0.64419935\n",
            " 0.62152778 0.6439951  0.66319444 0.67544935 0.63705065 0.64603758\n",
            " 0.65890523 0.65870098 0.67790033 0.63194444 0.63112745 0.62785948\n",
            " 0.64767157 0.63991013 0.63480392 0.63868464 0.62336601 0.62745098\n",
            " 0.63970588 0.64705882 0.66196895 0.67075163 0.65196078 0.63112745\n",
            " 0.61294935 0.6376634  0.62254902 0.62745098 0.63337418 0.62642974\n",
            " 0.63623366 0.58312908 0.57781863 0.57230392 0.58006536 0.57618464\n",
            " 0.55167484 0.57883987 0.625      0.63582516 0.62949346 0.62888072\n",
            " 0.62765523 0.62234477 0.63378268 0.62622549 0.62214052 0.62418301\n",
            " 0.58670014 0.55474538 0.53155023 0.51348317 0.49837241 0.48466605\n",
            " 0.47169322 0.45944619 0.44810054 0.437821   0.42871529 0.42084873\n",
            " 0.41419441 0.40865678 0.40409774 0.4003692 ]\n",
            "16 day output [[0.39732862]]\n",
            "17 day input [0.7689951  0.74468954 0.7120098  0.74673203 0.75490196 0.76041667\n",
            " 0.75980392 0.74652778 0.76245915 0.77062908 0.80412582 0.78104575\n",
            " 0.79411765 0.76021242 0.73488562 0.72406046 0.73999183 0.74979575\n",
            " 0.76143791 0.75428922 0.74754902 0.76960784 0.7495915  0.81719771\n",
            " 0.80208333 0.77736928 0.75714869 0.79370915 0.79166667 0.77144608\n",
            " 0.75265523 0.72691993 0.6629902  0.68198529 0.64419935 0.62152778\n",
            " 0.6439951  0.66319444 0.67544935 0.63705065 0.64603758 0.65890523\n",
            " 0.65870098 0.67790033 0.63194444 0.63112745 0.62785948 0.64767157\n",
            " 0.63991013 0.63480392 0.63868464 0.62336601 0.62745098 0.63970588\n",
            " 0.64705882 0.66196895 0.67075163 0.65196078 0.63112745 0.61294935\n",
            " 0.6376634  0.62254902 0.62745098 0.63337418 0.62642974 0.63623366\n",
            " 0.58312908 0.57781863 0.57230392 0.58006536 0.57618464 0.55167484\n",
            " 0.57883987 0.625      0.63582516 0.62949346 0.62888072 0.62765523\n",
            " 0.62234477 0.63378268 0.62622549 0.62214052 0.62418301 0.58670014\n",
            " 0.55474538 0.53155023 0.51348317 0.49837241 0.48466605 0.47169322\n",
            " 0.45944619 0.44810054 0.437821   0.42871529 0.42084873 0.41419441\n",
            " 0.40865678 0.40409774 0.4003692  0.39732862]\n",
            "17 day output [[0.39484704]]\n",
            "18 day input [0.74468954 0.7120098  0.74673203 0.75490196 0.76041667 0.75980392\n",
            " 0.74652778 0.76245915 0.77062908 0.80412582 0.78104575 0.79411765\n",
            " 0.76021242 0.73488562 0.72406046 0.73999183 0.74979575 0.76143791\n",
            " 0.75428922 0.74754902 0.76960784 0.7495915  0.81719771 0.80208333\n",
            " 0.77736928 0.75714869 0.79370915 0.79166667 0.77144608 0.75265523\n",
            " 0.72691993 0.6629902  0.68198529 0.64419935 0.62152778 0.6439951\n",
            " 0.66319444 0.67544935 0.63705065 0.64603758 0.65890523 0.65870098\n",
            " 0.67790033 0.63194444 0.63112745 0.62785948 0.64767157 0.63991013\n",
            " 0.63480392 0.63868464 0.62336601 0.62745098 0.63970588 0.64705882\n",
            " 0.66196895 0.67075163 0.65196078 0.63112745 0.61294935 0.6376634\n",
            " 0.62254902 0.62745098 0.63337418 0.62642974 0.63623366 0.58312908\n",
            " 0.57781863 0.57230392 0.58006536 0.57618464 0.55167484 0.57883987\n",
            " 0.625      0.63582516 0.62949346 0.62888072 0.62765523 0.62234477\n",
            " 0.63378268 0.62622549 0.62214052 0.62418301 0.58670014 0.55474538\n",
            " 0.53155023 0.51348317 0.49837241 0.48466605 0.47169322 0.45944619\n",
            " 0.44810054 0.437821   0.42871529 0.42084873 0.41419441 0.40865678\n",
            " 0.40409774 0.4003692  0.39732862 0.39484704]\n",
            "18 day output [[0.39280468]]\n",
            "19 day input [0.7120098  0.74673203 0.75490196 0.76041667 0.75980392 0.74652778\n",
            " 0.76245915 0.77062908 0.80412582 0.78104575 0.79411765 0.76021242\n",
            " 0.73488562 0.72406046 0.73999183 0.74979575 0.76143791 0.75428922\n",
            " 0.74754902 0.76960784 0.7495915  0.81719771 0.80208333 0.77736928\n",
            " 0.75714869 0.79370915 0.79166667 0.77144608 0.75265523 0.72691993\n",
            " 0.6629902  0.68198529 0.64419935 0.62152778 0.6439951  0.66319444\n",
            " 0.67544935 0.63705065 0.64603758 0.65890523 0.65870098 0.67790033\n",
            " 0.63194444 0.63112745 0.62785948 0.64767157 0.63991013 0.63480392\n",
            " 0.63868464 0.62336601 0.62745098 0.63970588 0.64705882 0.66196895\n",
            " 0.67075163 0.65196078 0.63112745 0.61294935 0.6376634  0.62254902\n",
            " 0.62745098 0.63337418 0.62642974 0.63623366 0.58312908 0.57781863\n",
            " 0.57230392 0.58006536 0.57618464 0.55167484 0.57883987 0.625\n",
            " 0.63582516 0.62949346 0.62888072 0.62765523 0.62234477 0.63378268\n",
            " 0.62622549 0.62214052 0.62418301 0.58670014 0.55474538 0.53155023\n",
            " 0.51348317 0.49837241 0.48466605 0.47169322 0.45944619 0.44810054\n",
            " 0.437821   0.42871529 0.42084873 0.41419441 0.40865678 0.40409774\n",
            " 0.4003692  0.39732862 0.39484704 0.39280468]\n",
            "19 day output [[0.39132768]]\n",
            "20 day input [0.74673203 0.75490196 0.76041667 0.75980392 0.74652778 0.76245915\n",
            " 0.77062908 0.80412582 0.78104575 0.79411765 0.76021242 0.73488562\n",
            " 0.72406046 0.73999183 0.74979575 0.76143791 0.75428922 0.74754902\n",
            " 0.76960784 0.7495915  0.81719771 0.80208333 0.77736928 0.75714869\n",
            " 0.79370915 0.79166667 0.77144608 0.75265523 0.72691993 0.6629902\n",
            " 0.68198529 0.64419935 0.62152778 0.6439951  0.66319444 0.67544935\n",
            " 0.63705065 0.64603758 0.65890523 0.65870098 0.67790033 0.63194444\n",
            " 0.63112745 0.62785948 0.64767157 0.63991013 0.63480392 0.63868464\n",
            " 0.62336601 0.62745098 0.63970588 0.64705882 0.66196895 0.67075163\n",
            " 0.65196078 0.63112745 0.61294935 0.6376634  0.62254902 0.62745098\n",
            " 0.63337418 0.62642974 0.63623366 0.58312908 0.57781863 0.57230392\n",
            " 0.58006536 0.57618464 0.55167484 0.57883987 0.625      0.63582516\n",
            " 0.62949346 0.62888072 0.62765523 0.62234477 0.63378268 0.62622549\n",
            " 0.62214052 0.62418301 0.58670014 0.55474538 0.53155023 0.51348317\n",
            " 0.49837241 0.48466605 0.47169322 0.45944619 0.44810054 0.437821\n",
            " 0.42871529 0.42084873 0.41419441 0.40865678 0.40409774 0.4003692\n",
            " 0.39732862 0.39484704 0.39280468 0.39132768]\n",
            "20 day output [[0.38993466]]\n",
            "21 day input [0.75490196 0.76041667 0.75980392 0.74652778 0.76245915 0.77062908\n",
            " 0.80412582 0.78104575 0.79411765 0.76021242 0.73488562 0.72406046\n",
            " 0.73999183 0.74979575 0.76143791 0.75428922 0.74754902 0.76960784\n",
            " 0.7495915  0.81719771 0.80208333 0.77736928 0.75714869 0.79370915\n",
            " 0.79166667 0.77144608 0.75265523 0.72691993 0.6629902  0.68198529\n",
            " 0.64419935 0.62152778 0.6439951  0.66319444 0.67544935 0.63705065\n",
            " 0.64603758 0.65890523 0.65870098 0.67790033 0.63194444 0.63112745\n",
            " 0.62785948 0.64767157 0.63991013 0.63480392 0.63868464 0.62336601\n",
            " 0.62745098 0.63970588 0.64705882 0.66196895 0.67075163 0.65196078\n",
            " 0.63112745 0.61294935 0.6376634  0.62254902 0.62745098 0.63337418\n",
            " 0.62642974 0.63623366 0.58312908 0.57781863 0.57230392 0.58006536\n",
            " 0.57618464 0.55167484 0.57883987 0.625      0.63582516 0.62949346\n",
            " 0.62888072 0.62765523 0.62234477 0.63378268 0.62622549 0.62214052\n",
            " 0.62418301 0.58670014 0.55474538 0.53155023 0.51348317 0.49837241\n",
            " 0.48466605 0.47169322 0.45944619 0.44810054 0.437821   0.42871529\n",
            " 0.42084873 0.41419441 0.40865678 0.40409774 0.4003692  0.39732862\n",
            " 0.39484704 0.39280468 0.39132768 0.38993466]\n",
            "21 day output [[0.38859063]]\n",
            "22 day input [0.76041667 0.75980392 0.74652778 0.76245915 0.77062908 0.80412582\n",
            " 0.78104575 0.79411765 0.76021242 0.73488562 0.72406046 0.73999183\n",
            " 0.74979575 0.76143791 0.75428922 0.74754902 0.76960784 0.7495915\n",
            " 0.81719771 0.80208333 0.77736928 0.75714869 0.79370915 0.79166667\n",
            " 0.77144608 0.75265523 0.72691993 0.6629902  0.68198529 0.64419935\n",
            " 0.62152778 0.6439951  0.66319444 0.67544935 0.63705065 0.64603758\n",
            " 0.65890523 0.65870098 0.67790033 0.63194444 0.63112745 0.62785948\n",
            " 0.64767157 0.63991013 0.63480392 0.63868464 0.62336601 0.62745098\n",
            " 0.63970588 0.64705882 0.66196895 0.67075163 0.65196078 0.63112745\n",
            " 0.61294935 0.6376634  0.62254902 0.62745098 0.63337418 0.62642974\n",
            " 0.63623366 0.58312908 0.57781863 0.57230392 0.58006536 0.57618464\n",
            " 0.55167484 0.57883987 0.625      0.63582516 0.62949346 0.62888072\n",
            " 0.62765523 0.62234477 0.63378268 0.62622549 0.62214052 0.62418301\n",
            " 0.58670014 0.55474538 0.53155023 0.51348317 0.49837241 0.48466605\n",
            " 0.47169322 0.45944619 0.44810054 0.437821   0.42871529 0.42084873\n",
            " 0.41419441 0.40865678 0.40409774 0.4003692  0.39732862 0.39484704\n",
            " 0.39280468 0.39132768 0.38993466 0.38859063]\n",
            "22 day output [[0.38729885]]\n",
            "23 day input [0.75980392 0.74652778 0.76245915 0.77062908 0.80412582 0.78104575\n",
            " 0.79411765 0.76021242 0.73488562 0.72406046 0.73999183 0.74979575\n",
            " 0.76143791 0.75428922 0.74754902 0.76960784 0.7495915  0.81719771\n",
            " 0.80208333 0.77736928 0.75714869 0.79370915 0.79166667 0.77144608\n",
            " 0.75265523 0.72691993 0.6629902  0.68198529 0.64419935 0.62152778\n",
            " 0.6439951  0.66319444 0.67544935 0.63705065 0.64603758 0.65890523\n",
            " 0.65870098 0.67790033 0.63194444 0.63112745 0.62785948 0.64767157\n",
            " 0.63991013 0.63480392 0.63868464 0.62336601 0.62745098 0.63970588\n",
            " 0.64705882 0.66196895 0.67075163 0.65196078 0.63112745 0.61294935\n",
            " 0.6376634  0.62254902 0.62745098 0.63337418 0.62642974 0.63623366\n",
            " 0.58312908 0.57781863 0.57230392 0.58006536 0.57618464 0.55167484\n",
            " 0.57883987 0.625      0.63582516 0.62949346 0.62888072 0.62765523\n",
            " 0.62234477 0.63378268 0.62622549 0.62214052 0.62418301 0.58670014\n",
            " 0.55474538 0.53155023 0.51348317 0.49837241 0.48466605 0.47169322\n",
            " 0.45944619 0.44810054 0.437821   0.42871529 0.42084873 0.41419441\n",
            " 0.40865678 0.40409774 0.4003692  0.39732862 0.39484704 0.39280468\n",
            " 0.39132768 0.38993466 0.38859063 0.38729885]\n",
            "23 day output [[0.38606882]]\n",
            "24 day input [0.74652778 0.76245915 0.77062908 0.80412582 0.78104575 0.79411765\n",
            " 0.76021242 0.73488562 0.72406046 0.73999183 0.74979575 0.76143791\n",
            " 0.75428922 0.74754902 0.76960784 0.7495915  0.81719771 0.80208333\n",
            " 0.77736928 0.75714869 0.79370915 0.79166667 0.77144608 0.75265523\n",
            " 0.72691993 0.6629902  0.68198529 0.64419935 0.62152778 0.6439951\n",
            " 0.66319444 0.67544935 0.63705065 0.64603758 0.65890523 0.65870098\n",
            " 0.67790033 0.63194444 0.63112745 0.62785948 0.64767157 0.63991013\n",
            " 0.63480392 0.63868464 0.62336601 0.62745098 0.63970588 0.64705882\n",
            " 0.66196895 0.67075163 0.65196078 0.63112745 0.61294935 0.6376634\n",
            " 0.62254902 0.62745098 0.63337418 0.62642974 0.63623366 0.58312908\n",
            " 0.57781863 0.57230392 0.58006536 0.57618464 0.55167484 0.57883987\n",
            " 0.625      0.63582516 0.62949346 0.62888072 0.62765523 0.62234477\n",
            " 0.63378268 0.62622549 0.62214052 0.62418301 0.58670014 0.55474538\n",
            " 0.53155023 0.51348317 0.49837241 0.48466605 0.47169322 0.45944619\n",
            " 0.44810054 0.437821   0.42871529 0.42084873 0.41419441 0.40865678\n",
            " 0.40409774 0.4003692  0.39732862 0.39484704 0.39280468 0.39132768\n",
            " 0.38993466 0.38859063 0.38729885 0.38606882]\n",
            "24 day output [[0.3849113]]\n",
            "25 day input [0.76245915 0.77062908 0.80412582 0.78104575 0.79411765 0.76021242\n",
            " 0.73488562 0.72406046 0.73999183 0.74979575 0.76143791 0.75428922\n",
            " 0.74754902 0.76960784 0.7495915  0.81719771 0.80208333 0.77736928\n",
            " 0.75714869 0.79370915 0.79166667 0.77144608 0.75265523 0.72691993\n",
            " 0.6629902  0.68198529 0.64419935 0.62152778 0.6439951  0.66319444\n",
            " 0.67544935 0.63705065 0.64603758 0.65890523 0.65870098 0.67790033\n",
            " 0.63194444 0.63112745 0.62785948 0.64767157 0.63991013 0.63480392\n",
            " 0.63868464 0.62336601 0.62745098 0.63970588 0.64705882 0.66196895\n",
            " 0.67075163 0.65196078 0.63112745 0.61294935 0.6376634  0.62254902\n",
            " 0.62745098 0.63337418 0.62642974 0.63623366 0.58312908 0.57781863\n",
            " 0.57230392 0.58006536 0.57618464 0.55167484 0.57883987 0.625\n",
            " 0.63582516 0.62949346 0.62888072 0.62765523 0.62234477 0.63378268\n",
            " 0.62622549 0.62214052 0.62418301 0.58670014 0.55474538 0.53155023\n",
            " 0.51348317 0.49837241 0.48466605 0.47169322 0.45944619 0.44810054\n",
            " 0.437821   0.42871529 0.42084873 0.41419441 0.40865678 0.40409774\n",
            " 0.4003692  0.39732862 0.39484704 0.39280468 0.39132768 0.38993466\n",
            " 0.38859063 0.38729885 0.38606882 0.3849113 ]\n",
            "25 day output [[0.38383022]]\n",
            "26 day input [0.77062908 0.80412582 0.78104575 0.79411765 0.76021242 0.73488562\n",
            " 0.72406046 0.73999183 0.74979575 0.76143791 0.75428922 0.74754902\n",
            " 0.76960784 0.7495915  0.81719771 0.80208333 0.77736928 0.75714869\n",
            " 0.79370915 0.79166667 0.77144608 0.75265523 0.72691993 0.6629902\n",
            " 0.68198529 0.64419935 0.62152778 0.6439951  0.66319444 0.67544935\n",
            " 0.63705065 0.64603758 0.65890523 0.65870098 0.67790033 0.63194444\n",
            " 0.63112745 0.62785948 0.64767157 0.63991013 0.63480392 0.63868464\n",
            " 0.62336601 0.62745098 0.63970588 0.64705882 0.66196895 0.67075163\n",
            " 0.65196078 0.63112745 0.61294935 0.6376634  0.62254902 0.62745098\n",
            " 0.63337418 0.62642974 0.63623366 0.58312908 0.57781863 0.57230392\n",
            " 0.58006536 0.57618464 0.55167484 0.57883987 0.625      0.63582516\n",
            " 0.62949346 0.62888072 0.62765523 0.62234477 0.63378268 0.62622549\n",
            " 0.62214052 0.62418301 0.58670014 0.55474538 0.53155023 0.51348317\n",
            " 0.49837241 0.48466605 0.47169322 0.45944619 0.44810054 0.437821\n",
            " 0.42871529 0.42084873 0.41419441 0.40865678 0.40409774 0.4003692\n",
            " 0.39732862 0.39484704 0.39280468 0.39132768 0.38993466 0.38859063\n",
            " 0.38729885 0.38606882 0.3849113  0.38383022]\n",
            "26 day output [[0.3828232]]\n",
            "27 day input [0.80412582 0.78104575 0.79411765 0.76021242 0.73488562 0.72406046\n",
            " 0.73999183 0.74979575 0.76143791 0.75428922 0.74754902 0.76960784\n",
            " 0.7495915  0.81719771 0.80208333 0.77736928 0.75714869 0.79370915\n",
            " 0.79166667 0.77144608 0.75265523 0.72691993 0.6629902  0.68198529\n",
            " 0.64419935 0.62152778 0.6439951  0.66319444 0.67544935 0.63705065\n",
            " 0.64603758 0.65890523 0.65870098 0.67790033 0.63194444 0.63112745\n",
            " 0.62785948 0.64767157 0.63991013 0.63480392 0.63868464 0.62336601\n",
            " 0.62745098 0.63970588 0.64705882 0.66196895 0.67075163 0.65196078\n",
            " 0.63112745 0.61294935 0.6376634  0.62254902 0.62745098 0.63337418\n",
            " 0.62642974 0.63623366 0.58312908 0.57781863 0.57230392 0.58006536\n",
            " 0.57618464 0.55167484 0.57883987 0.625      0.63582516 0.62949346\n",
            " 0.62888072 0.62765523 0.62234477 0.63378268 0.62622549 0.62214052\n",
            " 0.62418301 0.58670014 0.55474538 0.53155023 0.51348317 0.49837241\n",
            " 0.48466605 0.47169322 0.45944619 0.44810054 0.437821   0.42871529\n",
            " 0.42084873 0.41419441 0.40865678 0.40409774 0.4003692  0.39732862\n",
            " 0.39484704 0.39280468 0.39132768 0.38993466 0.38859063 0.38729885\n",
            " 0.38606882 0.3849113  0.38383022 0.3828232 ]\n",
            "27 day output [[0.38188517]]\n",
            "28 day input [0.78104575 0.79411765 0.76021242 0.73488562 0.72406046 0.73999183\n",
            " 0.74979575 0.76143791 0.75428922 0.74754902 0.76960784 0.7495915\n",
            " 0.81719771 0.80208333 0.77736928 0.75714869 0.79370915 0.79166667\n",
            " 0.77144608 0.75265523 0.72691993 0.6629902  0.68198529 0.64419935\n",
            " 0.62152778 0.6439951  0.66319444 0.67544935 0.63705065 0.64603758\n",
            " 0.65890523 0.65870098 0.67790033 0.63194444 0.63112745 0.62785948\n",
            " 0.64767157 0.63991013 0.63480392 0.63868464 0.62336601 0.62745098\n",
            " 0.63970588 0.64705882 0.66196895 0.67075163 0.65196078 0.63112745\n",
            " 0.61294935 0.6376634  0.62254902 0.62745098 0.63337418 0.62642974\n",
            " 0.63623366 0.58312908 0.57781863 0.57230392 0.58006536 0.57618464\n",
            " 0.55167484 0.57883987 0.625      0.63582516 0.62949346 0.62888072\n",
            " 0.62765523 0.62234477 0.63378268 0.62622549 0.62214052 0.62418301\n",
            " 0.58670014 0.55474538 0.53155023 0.51348317 0.49837241 0.48466605\n",
            " 0.47169322 0.45944619 0.44810054 0.437821   0.42871529 0.42084873\n",
            " 0.41419441 0.40865678 0.40409774 0.4003692  0.39732862 0.39484704\n",
            " 0.39280468 0.39132768 0.38993466 0.38859063 0.38729885 0.38606882\n",
            " 0.3849113  0.38383022 0.3828232  0.38188517]\n",
            "28 day output [[0.38101077]]\n",
            "29 day input [0.79411765 0.76021242 0.73488562 0.72406046 0.73999183 0.74979575\n",
            " 0.76143791 0.75428922 0.74754902 0.76960784 0.7495915  0.81719771\n",
            " 0.80208333 0.77736928 0.75714869 0.79370915 0.79166667 0.77144608\n",
            " 0.75265523 0.72691993 0.6629902  0.68198529 0.64419935 0.62152778\n",
            " 0.6439951  0.66319444 0.67544935 0.63705065 0.64603758 0.65890523\n",
            " 0.65870098 0.67790033 0.63194444 0.63112745 0.62785948 0.64767157\n",
            " 0.63991013 0.63480392 0.63868464 0.62336601 0.62745098 0.63970588\n",
            " 0.64705882 0.66196895 0.67075163 0.65196078 0.63112745 0.61294935\n",
            " 0.6376634  0.62254902 0.62745098 0.63337418 0.62642974 0.63623366\n",
            " 0.58312908 0.57781863 0.57230392 0.58006536 0.57618464 0.55167484\n",
            " 0.57883987 0.625      0.63582516 0.62949346 0.62888072 0.62765523\n",
            " 0.62234477 0.63378268 0.62622549 0.62214052 0.62418301 0.58670014\n",
            " 0.55474538 0.53155023 0.51348317 0.49837241 0.48466605 0.47169322\n",
            " 0.45944619 0.44810054 0.437821   0.42871529 0.42084873 0.41419441\n",
            " 0.40865678 0.40409774 0.4003692  0.39732862 0.39484704 0.39280468\n",
            " 0.39132768 0.38993466 0.38859063 0.38729885 0.38606882 0.3849113\n",
            " 0.38383022 0.3828232  0.38188517 0.38101077]\n",
            "29 day output [[0.3801952]]\n",
            "[[0.5867001414299011], [0.5547453761100769], [0.5315502285957336], [0.5134831666946411], [0.4983724057674408], [0.48466604948043823], [0.471693217754364], [0.4594461917877197], [0.4481005370616913], [0.43782100081443787], [0.4287152886390686], [0.4208487272262573], [0.41419440507888794], [0.4086567759513855], [0.4040977358818054], [0.40036919713020325], [0.39732861518859863], [0.39484703540802], [0.39280468225479126], [0.3913276791572571], [0.3899346590042114], [0.38859063386917114], [0.3872988522052765], [0.38606882095336914], [0.38491129875183105], [0.3838302195072174], [0.3828231990337372], [0.3818851709365845], [0.3810107707977295], [0.3801952004432678]]\n"
          ]
        }
      ],
      "source": [
        "# demonstrate prediction for next 10 days\n",
        "from numpy import array\n",
        "\n",
        "lst_output=[]\n",
        "n_steps=100\n",
        "i=0\n",
        "while(i<30):\n",
        "\n",
        "    if(len(temp_input)>100):\n",
        "        #print(temp_input)\n",
        "        x_input=np.array(temp_input[1:])\n",
        "        print(\"{} day input {}\".format(i,x_input))\n",
        "        x_input=x_input.reshape(1,-1)\n",
        "        x_input = x_input.reshape((1, n_steps, 1))\n",
        "        #print(x_input)\n",
        "        yhat = model.predict(x_input, verbose=0)\n",
        "        print(\"{} day output {}\".format(i,yhat))\n",
        "        temp_input.extend(yhat[0].tolist())\n",
        "        temp_input=temp_input[1:]\n",
        "        #print(temp_input)\n",
        "        lst_output.extend(yhat.tolist())\n",
        "        i=i+1\n",
        "    else:\n",
        "        x_input = x_input.reshape((1, n_steps,1))\n",
        "        yhat = model.predict(x_input, verbose=0)\n",
        "        print(yhat[0])\n",
        "        temp_input.extend(yhat[0].tolist())\n",
        "        print(len(temp_input))\n",
        "        lst_output.extend(yhat.tolist())\n",
        "        i=i+1\n",
        "\n",
        "\n",
        "print(lst_output)"
      ]
    },
    {
      "cell_type": "code",
      "execution_count": null,
      "metadata": {
        "id": "l5P9MQArKoHF"
      },
      "outputs": [],
      "source": [
        "day_new=np.arange(1,101)\n",
        "day_pred=np.arange(101,131)"
      ]
    },
    {
      "cell_type": "code",
      "execution_count": null,
      "metadata": {
        "colab": {
          "base_uri": "https://localhost:8080/"
        },
        "id": "8kROS5IpK07Z",
        "outputId": "92043d00-844a-4c39-f159-11702fe71d73"
      },
      "outputs": [
        {
          "data": {
            "text/plain": [
              "2035"
            ]
          },
          "execution_count": 60,
          "metadata": {},
          "output_type": "execute_result"
        }
      ],
      "source": [
        "len(df1)"
      ]
    },
    {
      "cell_type": "code",
      "execution_count": null,
      "metadata": {
        "colab": {
          "base_uri": "https://localhost:8080/",
          "height": 448
        },
        "id": "QcImQnn5Ktlq",
        "outputId": "77e00a4a-9bd2-466c-ae61-8cc29e59e7d3"
      },
      "outputs": [
        {
          "data": {
            "text/plain": [
              "[<matplotlib.lines.Line2D at 0x7acebc5817b0>]"
            ]
          },
          "execution_count": 61,
          "metadata": {},
          "output_type": "execute_result"
        },
        {
          "data": {
            "image/png": "[encoded data removed]",
            "text/plain": [
              "<Figure size 640x480 with 1 Axes>"
            ]
          },
          "metadata": {},
          "output_type": "display_data"
        }
      ],
      "source": [
        "plt.plot(day_new,scaler.inverse_transform(df1[1935:]))\n",
        "plt.plot(day_pred,scaler.inverse_transform(lst_output))"
      ]
    },
    {
      "cell_type": "markdown",
      "metadata": {},
      "source": [
        "PREDICTION FOR NEXT 10 DAYS"
      ]
    }
  ],
  "metadata": {
    "colab": {
      "provenance": []
    },
    "kernelspec": {
      "display_name": "Python 3",
      "name": "python3"
    },
    "language_info": {
      "name": "python"
    }
  },
  "nbformat": 4,
  "nbformat_minor": 0
}
