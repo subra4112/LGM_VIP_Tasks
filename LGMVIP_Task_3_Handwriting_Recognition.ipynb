{
  "cells": [
    {
      "cell_type": "markdown",
      "metadata": {},
      "source": [
        "\n",
        "**LGM VIP INTERNSHIP**\n",
        "**DATA ANALYTICS INTERNSHIP**\n",
        "**Develop A Neural Network That Can Read Handwriting**"
      ]
    },
    {
      "cell_type": "markdown",
      "metadata": {},
      "source": [
        "**IMPORT LIBRARIES**"
      ]
    },
    {
      "cell_type": "code",
      "execution_count": 23,
      "metadata": {
        "id": "RFO512X8ixjX"
      },
      "outputs": [],
      "source": [
        "import tensorflow as tf\n",
        "from tensorflow.keras.datasets import mnist\n",
        "from tensorflow.keras.models import Sequential\n",
        "from tensorflow.keras.layers import Conv2D, MaxPooling2D, Flatten, Dense, Dropout\n",
        "import matplotlib.pyplot as plt\n",
        "from tensorflow.keras.utils import to_categorical\n",
        "from tensorflow.keras.preprocessing.image import ImageDataGenerator\n",
        "import numpy as np"
      ]
    },
    {
      "cell_type": "code",
      "execution_count": 9,
      "metadata": {
        "colab": {
          "base_uri": "https://localhost:8080/"
        },
        "id": "ZzyvM0uQkV6j",
        "outputId": "a172afad-967e-481a-cde6-c40509a39ade"
      },
      "outputs": [
        {
          "name": "stdout",
          "output_type": "stream",
          "text": [
            "Downloading data from https://storage.googleapis.com/tensorflow/tf-keras-datasets/mnist.npz\n",
            "11490434/11490434 [==============================] - 1s 0us/step\n"
          ]
        }
      ],
      "source": [
        "#load and split data\n",
        "(x_train, y_train), (x_test, y_test) = mnist.load_data()"
      ]
    },
    {
      "cell_type": "code",
      "execution_count": 10,
      "metadata": {
        "colab": {
          "base_uri": "https://localhost:8080/"
        },
        "id": "eoPb-YHWmx8K",
        "outputId": "00acf5f0-786c-4f1f-e8fe-da1c9ea9fe01"
      },
      "outputs": [
        {
          "data": {
            "text/plain": [
              "array([5, 0, 4, ..., 5, 6, 8], dtype=uint8)"
            ]
          },
          "execution_count": 10,
          "metadata": {},
          "output_type": "execute_result"
        }
      ],
      "source": [
        "#printing labels\n",
        "y_train"
      ]
    },
    {
      "cell_type": "code",
      "execution_count": 11,
      "metadata": {
        "colab": {
          "base_uri": "https://localhost:8080/"
        },
        "id": "PyNDIx9P1hF4",
        "outputId": "ec99f523-0654-473f-cdb1-b97fa7848bdf"
      },
      "outputs": [
        {
          "data": {
            "text/plain": [
              "(28, 28)"
            ]
          },
          "execution_count": 11,
          "metadata": {},
          "output_type": "execute_result"
        }
      ],
      "source": [
        "x_train[0].shape"
      ]
    },
    {
      "cell_type": "code",
      "execution_count": 12,
      "metadata": {
        "colab": {
          "base_uri": "https://localhost:8080/"
        },
        "id": "QGxys-3kkuwE",
        "outputId": "714f8948-af0f-4e47-b141-828c604c5fbb"
      },
      "outputs": [
        {
          "name": "stdout",
          "output_type": "stream",
          "text": [
            "Train: X=(60000, 28, 28), y=(60000,)\n",
            "Test: X=(10000, 28, 28), y=(10000,)\n"
          ]
        }
      ],
      "source": [
        "print('Train: X=%s, y=%s' % (x_train.shape, y_train.shape))\n",
        "print('Test: X=%s, y=%s' % (x_test.shape, y_test.shape))"
      ]
    },
    {
      "cell_type": "markdown",
      "metadata": {},
      "source": [
        "**VARIOUS IMAGES OF HANDWRITTEN NUMBERS**"
      ]
    },
    {
      "cell_type": "code",
      "execution_count": 13,
      "metadata": {
        "colab": {
          "base_uri": "https://localhost:8080/",
          "height": 303
        },
        "id": "mQwJtQrqlDu4",
        "outputId": "7c103dae-5ae1-4f63-83c3-e5917983b6e6"
      },
      "outputs": [
        {
          "data": {
            "image/png": "[encoded data removed]",
            "text/plain": [
              "<Figure size 640x480 with 6 Axes>"
            ]
          },
          "metadata": {},
          "output_type": "display_data"
        }
      ],
      "source": [
        "for i in range(6):\n",
        " plt.subplot(330 + 1 + i)\n",
        " plt.imshow(x_train[i], cmap=plt.get_cmap('Greens'))\n",
        "plt.show()"
      ]
    },
    {
      "cell_type": "markdown",
      "metadata": {},
      "source": [
        "**DATA PREPROCESSING**"
      ]
    },
    {
      "cell_type": "code",
      "execution_count": 14,
      "metadata": {
        "id": "aX1XLGzYl-nL"
      },
      "outputs": [],
      "source": [
        "\n",
        "# Normalize pixel values to be between 0 and 1\n",
        "x_train, x_test = x_train / 255.0, x_test / 255.0\n",
        "\n",
        "# Add channel dimension for CNN input\n",
        "x_train = x_train.reshape((-1, 28, 28, 1))\n",
        "x_test = x_test.reshape((-1, 28, 28, 1))"
      ]
    },
    {
      "cell_type": "code",
      "execution_count": 15,
      "metadata": {
        "id": "hNmPmyOwmgSy"
      },
      "outputs": [],
      "source": [
        "# Convert labels to one-hot encoding\n",
        "y_train = tf.keras.utils.to_categorical(y_train, num_classes=10)\n",
        "y_test = tf.keras.utils.to_categorical(y_test, num_classes=10)"
      ]
    },
    {
      "cell_type": "code",
      "execution_count": 16,
      "metadata": {
        "id": "Kkogn3VGoXHN"
      },
      "outputs": [],
      "source": [
        "#augmentation of data\n",
        "datagen = ImageDataGenerator(\n",
        "    rotation_range=15,      # Rotate images up to 15 degrees\n",
        "    width_shift_range=0.1,  # Shift images horizontally by up to 10%\n",
        "    height_shift_range=0.1, # Shift images vertically by up to 10%\n",
        "    shear_range=0.2,        # Shear transformations\n",
        "    zoom_range=0.2,         # Zoom in/out\n",
        "    horizontal_flip=True    # Flip images horizontally\n",
        ")\n",
        "\n",
        "# Fit the generator on the training data\n",
        "datagen.fit(x_train.reshape((-1, 28, 28, 1)))\n",
        "augmented_iterator = datagen.flow(x_train.reshape((-1, 28, 28, 1)), y_train, batch_size=64)"
      ]
    },
    {
      "cell_type": "code",
      "execution_count": 17,
      "metadata": {
        "colab": {
          "base_uri": "https://localhost:8080/"
        },
        "id": "g4w_By8Ho6Bi",
        "outputId": "377ae3d2-b841-4d93-9bbc-8bc285d08274"
      },
      "outputs": [
        {
          "data": {
            "text/plain": [
              "<keras.preprocessing.image.NumpyArrayIterator at 0x78651cda7af0>"
            ]
          },
          "execution_count": 17,
          "metadata": {},
          "output_type": "execute_result"
        }
      ],
      "source": [
        "augmented_iterator"
      ]
    },
    {
      "cell_type": "markdown",
      "metadata": {},
      "source": [
        "**2D CNN MODEL**"
      ]
    },
    {
      "cell_type": "code",
      "execution_count": 18,
      "metadata": {
        "colab": {
          "base_uri": "https://localhost:8080/"
        },
        "id": "XxrJlIcXpHW5",
        "outputId": "18626c9d-686e-4f0b-ae88-be3536601607"
      },
      "outputs": [
        {
          "name": "stdout",
          "output_type": "stream",
          "text": [
            "Model: \"sequential\"\n",
            "_________________________________________________________________\n",
            " Layer (type)                Output Shape              Param #   \n",
            "=================================================================\n",
            " conv2d (Conv2D)             (None, 26, 26, 32)        320       \n",
            "                                                                 \n",
            " max_pooling2d (MaxPooling2D  (None, 13, 13, 32)       0         \n",
            " )                                                               \n",
            "                                                                 \n",
            " conv2d_1 (Conv2D)           (None, 11, 11, 64)        18496     \n",
            "                                                                 \n",
            " max_pooling2d_1 (MaxPooling  (None, 5, 5, 64)         0         \n",
            " 2D)                                                             \n",
            "                                                                 \n",
            " conv2d_2 (Conv2D)           (None, 3, 3, 64)          36928     \n",
            "                                                                 \n",
            " flatten (Flatten)           (None, 576)               0         \n",
            "                                                                 \n",
            " dense (Dense)               (None, 64)                36928     \n",
            "                                                                 \n",
            " dropout (Dropout)           (None, 64)                0         \n",
            "                                                                 \n",
            " dense_1 (Dense)             (None, 10)                650       \n",
            "                                                                 \n",
            "=================================================================\n",
            "Total params: 93,322\n",
            "Trainable params: 93,322\n",
            "Non-trainable params: 0\n",
            "_________________________________________________________________\n"
          ]
        }
      ],
      "source": [
        "model = Sequential([\n",
        "    Conv2D(32, (3, 3), activation='relu', input_shape=x_train[0].shape),\n",
        "    MaxPooling2D((2, 2)),\n",
        "    Conv2D(64, (3, 3), activation='relu'),\n",
        "    MaxPooling2D((2, 2)),\n",
        "    Conv2D(64, (3, 3), activation='relu'),\n",
        "    Flatten(),\n",
        "    Dense(64, activation='relu'),\n",
        "    Dropout(0.5),\n",
        "    Dense(10, activation='softmax')\n",
        "])\n",
        "\n",
        "# Compile the model\n",
        "model.compile(optimizer='adam', loss='categorical_crossentropy', metrics=['accuracy'])\n",
        "\n",
        "# Print model summary\n",
        "model.summary()\n"
      ]
    },
    {
      "cell_type": "code",
      "execution_count": 19,
      "metadata": {
        "colab": {
          "base_uri": "https://localhost:8080/"
        },
        "id": "iwGutGBWpc1i",
        "outputId": "1fefca47-7c59-4a5c-aa51-13a35f01364c"
      },
      "outputs": [
        {
          "name": "stdout",
          "output_type": "stream",
          "text": [
            "Epoch 1/10\n",
            "937/937 [==============================] - 37s 27ms/step - loss: 0.8791 - accuracy: 0.7011 - val_loss: 0.1454 - val_accuracy: 0.9532\n",
            "Epoch 2/10\n",
            "937/937 [==============================] - 26s 28ms/step - loss: 0.3912 - accuracy: 0.8784 - val_loss: 0.1032 - val_accuracy: 0.9666\n",
            "Epoch 3/10\n",
            "937/937 [==============================] - 25s 26ms/step - loss: 0.2904 - accuracy: 0.9118 - val_loss: 0.0738 - val_accuracy: 0.9745\n",
            "Epoch 4/10\n",
            "937/937 [==============================] - 24s 26ms/step - loss: 0.2438 - accuracy: 0.9294 - val_loss: 0.0566 - val_accuracy: 0.9807\n",
            "Epoch 5/10\n",
            "937/937 [==============================] - 24s 26ms/step - loss: 0.2123 - accuracy: 0.9393 - val_loss: 0.0583 - val_accuracy: 0.9800\n",
            "Epoch 6/10\n",
            "937/937 [==============================] - 24s 25ms/step - loss: 0.1885 - accuracy: 0.9444 - val_loss: 0.0490 - val_accuracy: 0.9846\n",
            "Epoch 7/10\n",
            "937/937 [==============================] - 24s 25ms/step - loss: 0.1701 - accuracy: 0.9512 - val_loss: 0.0533 - val_accuracy: 0.9827\n",
            "Epoch 8/10\n",
            "937/937 [==============================] - 24s 26ms/step - loss: 0.1599 - accuracy: 0.9544 - val_loss: 0.0440 - val_accuracy: 0.9855\n",
            "Epoch 9/10\n",
            "937/937 [==============================] - 25s 27ms/step - loss: 0.1524 - accuracy: 0.9575 - val_loss: 0.0488 - val_accuracy: 0.9838\n",
            "Epoch 10/10\n",
            "937/937 [==============================] - 24s 26ms/step - loss: 0.1441 - accuracy: 0.9592 - val_loss: 0.0448 - val_accuracy: 0.9846\n"
          ]
        },
        {
          "data": {
            "text/plain": [
              "<keras.callbacks.History at 0x78648aa3a9e0>"
            ]
          },
          "execution_count": 19,
          "metadata": {},
          "output_type": "execute_result"
        }
      ],
      "source": [
        "model.fit(augmented_iterator, epochs=10, steps_per_epoch=len(x_train) // 64, validation_data=(x_test.reshape((-1, 28, 28, 1)), y_test))"
      ]
    },
    {
      "cell_type": "code",
      "execution_count": 20,
      "metadata": {
        "colab": {
          "base_uri": "https://localhost:8080/"
        },
        "id": "OikB9LX8q7Rd",
        "outputId": "73b2f329-b1c4-496a-b559-7c4c28bf8d69"
      },
      "outputs": [
        {
          "name": "stdout",
          "output_type": "stream",
          "text": [
            "313/313 - 1s - loss: 0.0448 - accuracy: 0.9846 - 690ms/epoch - 2ms/step\n",
            "Test accuracy: 0.9846000075340271\n"
          ]
        }
      ],
      "source": [
        "# Evaluate the model on the test data\n",
        "test_loss, test_acc = model.evaluate(x_test, y_test, verbose=2)\n",
        "print(f\"Test accuracy: {test_acc}\")\n"
      ]
    },
    {
      "cell_type": "markdown",
      "metadata": {},
      "source": [
        "**ACCURACY : 98.46**"
      ]
    },
    {
      "cell_type": "markdown",
      "metadata": {},
      "source": [
        "**PREDICTED VALUES FOR TEST INPUT**"
      ]
    },
    {
      "cell_type": "code",
      "execution_count": 21,
      "metadata": {
        "colab": {
          "base_uri": "https://localhost:8080/",
          "height": 433
        },
        "id": "SE1l9aKv1Dyc",
        "outputId": "a8e4f178-f9f8-4016-9505-a5dad2ed60a0"
      },
      "outputs": [
        {
          "data": {
            "image/png": "[encoded data removed]",
            "text/plain": [
              "<Figure size 640x480 with 9 Axes>"
            ]
          },
          "metadata": {},
          "output_type": "display_data"
        }
      ],
      "source": [
        "for i in range(9):\n",
        "    plt.subplot(330 + 1 + i)\n",
        "    plt.imshow(x_test[i])"
      ]
    },
    {
      "cell_type": "code",
      "execution_count": 24,
      "metadata": {
        "colab": {
          "base_uri": "https://localhost:8080/"
        },
        "id": "hFwDYgt9q86V",
        "outputId": "b7080d3c-4a87-4d5e-9df1-8336be2a7d6d"
      },
      "outputs": [
        {
          "name": "stdout",
          "output_type": "stream",
          "text": [
            "313/313 [==============================] - 1s 2ms/step\n",
            "Image 1 - Predicted digit: 7\n",
            "Image 2 - Predicted digit: 2\n",
            "Image 3 - Predicted digit: 1\n",
            "Image 4 - Predicted digit: 0\n",
            "Image 5 - Predicted digit: 4\n",
            "Image 6 - Predicted digit: 1\n",
            "Image 7 - Predicted digit: 4\n",
            "Image 8 - Predicted digit: 9\n",
            "Image 9 - Predicted digit: 5\n",
            "Image 10 - Predicted digit: 9\n"
          ]
        }
      ],
      "source": [
        "# Make predictions for the test images\n",
        "predictions = model.predict(x_test)\n",
        "predicted_classes = np.argmax(predictions, axis=1)\n",
        "# Print some example predictions\n",
        "for i in range(10):\n",
        "    print(f\"Image {i+1} - Predicted digit: {predicted_classes[i]}\")\n"
      ]
    }
  ],
  "metadata": {
    "accelerator": "GPU",
    "colab": {
      "gpuType": "T4",
      "provenance": []
    },
    "kernelspec": {
      "display_name": "Python 3",
      "name": "python3"
    },
    "language_info": {
      "name": "python"
    }
  },
  "nbformat": 4,
  "nbformat_minor": 0
}
